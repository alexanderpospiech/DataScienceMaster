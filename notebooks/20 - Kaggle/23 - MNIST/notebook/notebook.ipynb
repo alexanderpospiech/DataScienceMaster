{
 "cells": [
  {
   "cell_type": "code",
   "execution_count": 1,
   "metadata": {
    "_cell_guid": "7165bf6e-f948-4e8b-809b-9bafb07b8ef3",
    "_uuid": "79f6d980090d9b39484d0a3b295cb32c0a1d3a04"
   },
   "outputs": [
    {
     "name": "stderr",
     "output_type": "stream",
     "text": [
      "Using TensorFlow backend.\n"
     ]
    }
   ],
   "source": [
    "import pandas as pd\n",
    "import numpy as np # linear algebra\n",
    "import matplotlib.pyplot as plt\n",
    "import matplotlib.image as mpimg\n",
    "\n",
    "from sklearn.model_selection import train_test_split\n",
    "from sklearn import svm\n",
    "\n",
    "from keras.models import Sequential\n",
    "from keras.layers import Dense , Dropout , Lambda, Flatten\n",
    "from keras.optimizers import Adam ,RMSprop\n",
    "from keras.utils.np_utils import to_categorical\n",
    "\n",
    "from keras.layers.core import Dense, Activation, Dropout\n",
    "\n",
    "from keras.models import  Sequential\n",
    "from keras.layers.core import  Lambda , Dense, Flatten, Dropout\n",
    "from keras.callbacks import EarlyStopping\n",
    "from keras.layers import BatchNormalization, Convolution2D , MaxPooling2D\n",
    "from keras.preprocessing import image\n",
    "\n",
    "%matplotlib inline"
   ]
  },
  {
   "cell_type": "code",
   "execution_count": 2,
   "metadata": {},
   "outputs": [
    {
     "name": "stdout",
     "output_type": "stream",
     "text": [
      "[name: \"/device:CPU:0\"\n",
      "device_type: \"CPU\"\n",
      "memory_limit: 268435456\n",
      "locality {\n",
      "}\n",
      "incarnation: 280841409289209534\n",
      "]\n"
     ]
    }
   ],
   "source": [
    "from tensorflow.python.client import device_lib\n",
    "print(device_lib.list_local_devices())"
   ]
  },
  {
   "cell_type": "code",
   "execution_count": 3,
   "metadata": {},
   "outputs": [
    {
     "data": {
      "text/plain": [
       "[]"
      ]
     },
     "execution_count": 3,
     "metadata": {},
     "output_type": "execute_result"
    }
   ],
   "source": [
    "from keras import backend as K\n",
    "K.tensorflow_backend._get_available_gpus()"
   ]
  },
  {
   "cell_type": "code",
   "execution_count": 4,
   "metadata": {
    "_cell_guid": "8e26df1f-653a-488a-a533-38c480b97beb",
    "_uuid": "b650e1827c01bda4e84c36430c57cb5968e7077c",
    "collapsed": true
   },
   "outputs": [],
   "source": [
    "train = pd.read_csv(\"../input/train.csv\")\n",
    "test= pd.read_csv(\"../input/test.csv\")"
   ]
  },
  {
   "cell_type": "code",
   "execution_count": 5,
   "metadata": {
    "_cell_guid": "0b3f0b13-5fcd-4103-a82c-de378d2e9c9f",
    "_uuid": "32c21835666f33ea229b94ae527e00305147fcbe"
   },
   "outputs": [
    {
     "name": "stderr",
     "output_type": "stream",
     "text": [
      "/home/apospiech/Programme/anaconda3/lib/python3.5/site-packages/ipykernel/__main__.py:1: DeprecationWarning: \n",
      ".ix is deprecated. Please use\n",
      ".loc for label based indexing or\n",
      ".iloc for positional indexing\n",
      "\n",
      "See the documentation here:\n",
      "http://pandas.pydata.org/pandas-docs/stable/indexing.html#ix-indexer-is-deprecated\n",
      "  if __name__ == '__main__':\n"
     ]
    }
   ],
   "source": [
    "X_train = (train.ix[0:5000,1:].values).astype('float32') # all pixel values\n",
    "y_train = train.ix[0:5000,0].values.astype('int32') # only labels i.e targets digits\n",
    "X_test = test.values.astype('float32')"
   ]
  },
  {
   "cell_type": "code",
   "execution_count": 6,
   "metadata": {
    "_cell_guid": "954d27ac-866c-49b6-93b3-9fc40b660d1b",
    "_uuid": "24571f145516236903ca9feaf744dfdefc9f3682",
    "collapsed": true
   },
   "outputs": [],
   "source": [
    "X_train = X_train.reshape(X_train.shape[0], 28, 28)"
   ]
  },
  {
   "cell_type": "code",
   "execution_count": 7,
   "metadata": {
    "_cell_guid": "6e0c75d2-7ece-426f-a3c2-1094d6d82231",
    "_uuid": "f59d8dbde1cc70566e3c353a10c1147e13c76fd6"
   },
   "outputs": [
    {
     "data": {
      "image/png": "[encoded data removed]",
      "text/plain": [
       "<matplotlib.figure.Figure at 0x7f52b0065278>"
      ]
     },
     "metadata": {},
     "output_type": "display_data"
    }
   ],
   "source": [
    "for i in range(6, 9):\n",
    "    plt.subplot(330 + (i+1))\n",
    "    plt.imshow(X_train[i], cmap=plt.get_cmap('gray'))\n",
    "    plt.title(y_train[i]);"
   ]
  },
  {
   "cell_type": "code",
   "execution_count": 8,
   "metadata": {
    "_cell_guid": "4e1fd552-1d76-4fd8-b29b-304c31a393ef",
    "_uuid": "757c13e2e09df0f726ab60b719d50fc1115e008b",
    "collapsed": true
   },
   "outputs": [],
   "source": [
    "X_train = X_train.reshape(X_train.shape[0], 28, 28,1)\n",
    "X_test = X_test.reshape(X_test.shape[0], 28, 28,1)"
   ]
  },
  {
   "cell_type": "code",
   "execution_count": 9,
   "metadata": {
    "_cell_guid": "b5324bae-d64d-43b7-b6c6-640c954a0454",
    "_uuid": "7cae493b5a0e0fc0aa3303f478918c15c293897a"
   },
   "outputs": [
    {
     "data": {
      "text/plain": [
       "10"
      ]
     },
     "execution_count": 9,
     "metadata": {},
     "output_type": "execute_result"
    }
   ],
   "source": [
    "y_train= to_categorical(y_train)\n",
    "num_classes = y_train.shape[1]\n",
    "num_classes"
   ]
  },
  {
   "cell_type": "code",
   "execution_count": 10,
   "metadata": {
    "_cell_guid": "3061963b-745a-48eb-8e09-0e8f0abe09bd",
    "_uuid": "70eacdcafbf0d0360613e399b8ee32de54618650"
   },
   "outputs": [
    {
     "name": "stderr",
     "output_type": "stream",
     "text": [
      "/home/apospiech/Programme/anaconda3/lib/python3.5/site-packages/sklearn/model_selection/_split.py:2026: FutureWarning: From version 0.21, test_size will always complement train_size unless both are specified.\n",
      "  FutureWarning)\n"
     ]
    }
   ],
   "source": [
    "X_train, X_validation, y_train, y_validation = train_test_split(X_train, y_train, train_size=0.8, random_state=0)"
   ]
  },
  {
   "cell_type": "code",
   "execution_count": 11,
   "metadata": {
    "_cell_guid": "9f1a99f2-20cc-41b5-a686-de52f44d109e",
    "_uuid": "828e168bc2706ddedb46615a5c6e3ba674a6b9c2",
    "collapsed": true
   },
   "outputs": [],
   "source": [
    "mean_px = X_train.mean().astype(np.float32)\n",
    "std_px = X_train.std().astype(np.float32)\n",
    "\n",
    "def standardize(x): \n",
    "    return (x-mean_px)/std_px"
   ]
  },
  {
   "cell_type": "code",
   "execution_count": 12,
   "metadata": {
    "_cell_guid": "4bfaa5eb-c307-4ab4-b9d8-bf627fd01c0b",
    "_uuid": "ea6e467e229a8cac21014027515a3aa68a8265f3",
    "collapsed": true
   },
   "outputs": [],
   "source": [
    "# fix random seed for reproducibility\n",
    "seed = 43\n",
    "np.random.seed(seed)"
   ]
  },
  {
   "cell_type": "code",
   "execution_count": 13,
   "metadata": {
    "_cell_guid": "a4f4ba70-dac6-4b9a-aa52-8551f8e0267f",
    "_uuid": "2ac1a8038e8da377d7498f04de220155671a329f",
    "collapsed": true
   },
   "outputs": [],
   "source": [
    "models = {}"
   ]
  },
  {
   "cell_type": "code",
   "execution_count": 14,
   "metadata": {
    "_cell_guid": "a0062c5c-ba24-4dd5-8dfb-7ac9ff9c38b5",
    "_uuid": "9e4cb820023a42ec050337ef86d527e1b518310c"
   },
   "outputs": [
    {
     "name": "stdout",
     "output_type": "stream",
     "text": [
      "input shape  (None, 28, 28, 1)\n",
      "output shape  (None, 10)\n"
     ]
    }
   ],
   "source": [
    "def create_simple_model():\n",
    "    model= Sequential()\n",
    "    model.add(Lambda(standardize,input_shape=(28,28,1)))\n",
    "    model.add(Flatten())\n",
    "    model.add(Dense(10, activation='softmax'))\n",
    "    print(\"input shape \",model.input_shape)\n",
    "    print(\"output shape \",model.output_shape)\n",
    "    return model\n",
    "models['simple'] = create_simple_model()"
   ]
  },
  {
   "cell_type": "code",
   "execution_count": 15,
   "metadata": {
    "_cell_guid": "b4971563-f379-4116-8e29-0ef7aecf56e4",
    "_uuid": "5e288df90ccd62f7701f5d3a690b9cce3be4e2bd"
   },
   "outputs": [
    {
     "name": "stdout",
     "output_type": "stream",
     "text": [
      "input shape  (None, 28, 28, 1)\n",
      "output shape  (None, 10)\n"
     ]
    }
   ],
   "source": [
    "def create_ddmlp_model():\n",
    "    model= Sequential()\n",
    "    model.add(Lambda(standardize,input_shape=(28,28,1)))\n",
    "    #model.add(Dense(128))#, input_dim=28))\n",
    "    #model.add(Activation('relu'))\n",
    "    #model.add(Dropout(0.15))\n",
    "    model.add(Dense(128))\n",
    "    model.add(Activation('relu'))\n",
    "    model.add(Dropout(0.15))\n",
    "    model.add(Flatten())\n",
    "    model.add(Dense(10))\n",
    "    model.add(Activation('softmax'))\n",
    "    print(\"input shape \",model.input_shape)\n",
    "    print(\"output shape \",model.output_shape)\n",
    "    return model\n",
    "#models['DDMLP'] = create_ddmlp_model()"
   ]
  },
  {
   "cell_type": "code",
   "execution_count": 16,
   "metadata": {},
   "outputs": [
    {
     "name": "stdout",
     "output_type": "stream",
     "text": [
      "input shape  (None, 28, 28, 1)\n",
      "output shape  (None, 10)\n"
     ]
    }
   ],
   "source": [
    "def create_tut_model():\n",
    "    model= Sequential()\n",
    "    model.add(Lambda(standardize,input_shape=(28,28,1)))\n",
    "    model.add(Convolution2D(32, (5, 5), activation='relu'))\n",
    "    model.add(MaxPooling2D(pool_size=(2, 2)))\n",
    "    model.add(Convolution2D(64, (5, 5), activation='relu'))\n",
    "    model.add(MaxPooling2D(pool_size=(2, 2)))\n",
    "    model.add(Flatten())\n",
    "    model.add(Dense(1024))\n",
    "    model.add(Dropout(0.5))\n",
    "    model.add(Dense(10))\n",
    "    model.add(Activation('softmax'))\n",
    "    print(\"input shape \",model.input_shape)\n",
    "    print(\"output shape \",model.output_shape)\n",
    "    return model\n",
    "models['tut'] = create_tut_model()"
   ]
  },
  {
   "cell_type": "code",
   "execution_count": 17,
   "metadata": {
    "_cell_guid": "fb416b1c-08e5-4a3c-830c-ae754a58ef17",
    "_uuid": "68ef6dbe07260a3c8ce3ac5baf6e5dbbb4ff19b2",
    "collapsed": true
   },
   "outputs": [],
   "source": [
    "for model in models:\n",
    "    models[model].compile(optimizer=RMSprop(lr=0.001),\n",
    "         loss='categorical_crossentropy',\n",
    "         metrics=['accuracy'])"
   ]
  },
  {
   "cell_type": "code",
   "execution_count": 18,
   "metadata": {
    "_cell_guid": "3ebf44f0-8485-498a-8998-f676d74a7bd9",
    "_uuid": "00b4f8fa591762575bed14f9f5871d87edd4ede9",
    "collapsed": true
   },
   "outputs": [],
   "source": [
    "gen = image.ImageDataGenerator()"
   ]
  },
  {
   "cell_type": "code",
   "execution_count": 19,
   "metadata": {
    "_cell_guid": "76bf77da-2fe7-4eba-929d-e31421cf801d",
    "_uuid": "c2450ceea7f9c3e6c05d584004e2bbe7942d56c6",
    "collapsed": true
   },
   "outputs": [],
   "source": [
    "batches = gen.flow(X_train, y_train, batch_size=64)\n",
    "val_batches=gen.flow(X_validation, y_validation, batch_size=64)"
   ]
  },
  {
   "cell_type": "code",
   "execution_count": 20,
   "metadata": {
    "_cell_guid": "9d822c9c-537a-4f5b-9d70-2586656e0bda",
    "_uuid": "f63d7ed0c1420ef2f77bb8c27339c49287a71416",
    "collapsed": true
   },
   "outputs": [],
   "source": [
    "histories = {}"
   ]
  },
  {
   "cell_type": "code",
   "execution_count": 21,
   "metadata": {
    "_cell_guid": "649aa0d3-8a05-48a2-b388-5eea6f448f4e",
    "_uuid": "66ef4ff354f1fed5feeacf034899f2460fc60e07"
   },
   "outputs": [
    {
     "name": "stdout",
     "output_type": "stream",
     "text": [
      "simple\n",
      "Epoch 1/5\n"
     ]
    },
    {
     "name": "stderr",
     "output_type": "stream",
     "text": [
      "/home/apospiech/Programme/anaconda3/lib/python3.5/site-packages/ipykernel/__main__.py:6: UserWarning: The semantics of the Keras 2 argument `steps_per_epoch` is not the same as the Keras 1 argument `samples_per_epoch`. `steps_per_epoch` is the number of batches to draw from the generator at each epoch. Basically steps_per_epoch = samples_per_epoch/batch_size. Similarly `nb_val_samples`->`validation_steps` and `val_samples`->`steps` arguments have changed. Update your method calls accordingly.\n",
      "/home/apospiech/Programme/anaconda3/lib/python3.5/site-packages/ipykernel/__main__.py:6: UserWarning: Update your `fit_generator` call to the Keras 2 API: `fit_generator(<keras.pre..., 4000, validation_steps=1001, epochs=5, validation_data=<keras.pre...)`\n"
     ]
    },
    {
     "name": "stdout",
     "output_type": "stream",
     "text": [
      "4000/4000 [==============================] - 23s 6ms/step - loss: 0.1490 - acc: 0.9613 - val_loss: 0.5348 - val_acc: 0.8941\n",
      "Epoch 2/5\n",
      "4000/4000 [==============================] - 21s 5ms/step - loss: 0.0324 - acc: 0.9967 - val_loss: 0.6637 - val_acc: 0.8912\n",
      "Epoch 3/5\n",
      "4000/4000 [==============================] - 21s 5ms/step - loss: 0.0100 - acc: 0.9997 - val_loss: 0.7717 - val_acc: 0.8910\n",
      "Epoch 4/5\n",
      "4000/4000 [==============================] - 21s 5ms/step - loss: 0.0032 - acc: 1.0000 - val_loss: 0.8597 - val_acc: 0.8901\n",
      "Epoch 5/5\n",
      "4000/4000 [==============================] - 21s 5ms/step - loss: 0.0011 - acc: 1.0000 - val_loss: 0.9378 - val_acc: 0.8901\n",
      "DDMLP\n",
      "Epoch 1/5\n",
      "4000/4000 [==============================] - 633s 158ms/step - loss: 0.0734 - acc: 0.9787 - val_loss: 1.2361 - val_acc: 0.8851\n",
      "Epoch 2/5\n",
      "4000/4000 [==============================] - 627s 157ms/step - loss: 0.0057 - acc: 0.9992 - val_loss: 1.4262 - val_acc: 0.8871\n",
      "Epoch 3/5\n",
      "4000/4000 [==============================] - 595s 149ms/step - loss: 0.0045 - acc: 0.9996 - val_loss: 1.4741 - val_acc: 0.8901\n",
      "Epoch 4/5\n",
      "4000/4000 [==============================] - 599s 150ms/step - loss: 0.0043 - acc: 0.9997 - val_loss: 1.5481 - val_acc: 0.8873\n",
      "Epoch 5/5\n",
      "4000/4000 [==============================] - 606s 151ms/step - loss: 0.0040 - acc: 0.9997 - val_loss: 1.5611 - val_acc: 0.8879\n",
      "tut\n",
      "Epoch 1/5\n",
      "4000/4000 [==============================] - 333s 83ms/step - loss: 0.0211 - acc: 0.9939 - val_loss: 0.3093 - val_acc: 0.9670\n",
      "Epoch 2/5\n",
      "4000/4000 [==============================] - 352s 88ms/step - loss: 0.0024 - acc: 0.9996 - val_loss: 0.3161 - val_acc: 0.9690\n",
      "Epoch 3/5\n",
      "4000/4000 [==============================] - 337s 84ms/step - loss: 0.0017 - acc: 0.9997 - val_loss: 0.3295 - val_acc: 0.9711\n",
      "Epoch 4/5\n",
      "4000/4000 [==============================] - 339s 85ms/step - loss: 0.0018 - acc: 0.9998 - val_loss: 0.4053 - val_acc: 0.9700\n",
      "Epoch 5/5\n",
      "4000/4000 [==============================] - 337s 84ms/step - loss: 6.3558e-04 - acc: 0.9999 - val_loss: 0.3892 - val_acc: 0.9711\n"
     ]
    }
   ],
   "source": [
    "import tensorflow as tf\n",
    "#with tf.device('/gpu:0'):\n",
    "for model in models:\n",
    "    print(model)\n",
    "    histories[model] = models[model].fit_generator(batches, batches.n, nb_epoch=5, \n",
    "                validation_data=val_batches, nb_val_samples=val_batches.n)"
   ]
  },
  {
   "cell_type": "code",
   "execution_count": 22,
   "metadata": {
    "_cell_guid": "372ad21f-e865-446b-9759-e236907bb0c1",
    "_uuid": "2632ccaee8c45d8167a5bac20ed5c88f3a6fac70"
   },
   "outputs": [
    {
     "data": {
      "image/png": "[encoded data removed]",
      "text/plain": [
       "<matplotlib.figure.Figure at 0x7f528c07eac8>"
      ]
     },
     "metadata": {},
     "output_type": "display_data"
    },
    {
     "data": {
      "image/png": "[encoded data removed]",
      "text/plain": [
       "<matplotlib.figure.Figure at 0x7f528c03a470>"
      ]
     },
     "metadata": {},
     "output_type": "display_data"
    },
    {
     "data": {
      "image/png": "[encoded data removed]",
      "text/plain": [
       "<matplotlib.figure.Figure at 0x7f528c03a4a8>"
      ]
     },
     "metadata": {},
     "output_type": "display_data"
    },
    {
     "data": {
      "text/plain": [
       "<matplotlib.figure.Figure at 0x7f528c030c18>"
      ]
     },
     "metadata": {},
     "output_type": "display_data"
    }
   ],
   "source": [
    "for model in models:\n",
    "    history_dict = histories[model].history\n",
    "    history_dict.keys()\n",
    "    loss_values = history_dict['loss']\n",
    "    val_loss_values = history_dict['val_loss']\n",
    "    epochs = range(1, len(loss_values) + 1)\n",
    "\n",
    "    # \"bo\" is for \"blue dot\"\n",
    "    plt.plot(epochs, loss_values, 'bo')\n",
    "    # b+ is for \"blue crosses\"\n",
    "    plt.plot(epochs, val_loss_values, 'b+')\n",
    "    plt.xlabel('Epochs')\n",
    "    plt.ylabel('Loss')\n",
    "\n",
    "    plt.show()\n",
    "    plt.clf()"
   ]
  },
  {
   "cell_type": "code",
   "execution_count": 23,
   "metadata": {
    "_cell_guid": "aa57254a-f97b-4dd9-afb9-5e5f2e37a2bc",
    "_uuid": "0b35d411313546c033335b4795f93654c750d84f"
   },
   "outputs": [
    {
     "data": {
      "image/png": "[encoded data removed]",
      "text/plain": [
       "<matplotlib.figure.Figure at 0x7f528c02df98>"
      ]
     },
     "metadata": {},
     "output_type": "display_data"
    },
    {
     "data": {
      "image/png": "[encoded data removed]",
      "text/plain": [
       "<matplotlib.figure.Figure at 0x7f528c00d6a0>"
      ]
     },
     "metadata": {},
     "output_type": "display_data"
    },
    {
     "data": {
      "image/png": "[encoded data removed]",
      "text/plain": [
       "<matplotlib.figure.Figure at 0x7f526890e4e0>"
      ]
     },
     "metadata": {},
     "output_type": "display_data"
    },
    {
     "data": {
      "text/plain": [
       "<matplotlib.figure.Figure at 0x7f5268922358>"
      ]
     },
     "metadata": {},
     "output_type": "display_data"
    }
   ],
   "source": [
    "for model in models:\n",
    "    history_dict = histories[model].history\n",
    "    history_dict.keys()\n",
    "\n",
    "    acc_values = history_dict['acc']\n",
    "    val_acc_values = history_dict['val_acc']\n",
    "\n",
    "    plt.plot(epochs, acc_values, 'bo')\n",
    "    plt.plot(epochs, val_acc_values, 'b+')\n",
    "    plt.xlabel('Epochs')\n",
    "    plt.ylabel('Accuracy')\n",
    "\n",
    "    plt.show()\n",
    "    plt.clf()"
   ]
  },
  {
   "cell_type": "code",
   "execution_count": 24,
   "metadata": {
    "_cell_guid": "77d12e85-7ab5-4e8d-81cf-2e90611d3ba2",
    "_uuid": "f1da9de9967ba99b8e402ecf4809cc543c9f488f"
   },
   "outputs": [
    {
     "name": "stdout",
     "output_type": "stream",
     "text": [
      "Epoch 1/1\n",
      "4000/4000 [==============================] - 13s 3ms/step - loss: 3.6720e-04 - acc: 1.0000: 4s - loss: 4.2817e-04 - ac - ETA: 3s  - ETA: 1s - loss: \n",
      "Epoch 1/1\n",
      "4000/4000 [==============================] - 556s 139ms/step - loss: 0.0042 - acc: 0.9997\n",
      "Epoch 1/1\n",
      "4000/4000 [==============================] - 290s 73ms/step - loss: 1.0712e-04 - acc: 1.0000\n"
     ]
    }
   ],
   "source": [
    "for model in models:\n",
    "    models[model].optimizer.lr=0.01\n",
    "    gen = image.ImageDataGenerator()\n",
    "    batches = gen.flow(X_train, y_train, batch_size=64)\n",
    "    history = models[model].fit_generator(batches, batches.n, epochs=1)"
   ]
  },
  {
   "cell_type": "code",
   "execution_count": 26,
   "metadata": {
    "_cell_guid": "dff825a5-ad2f-4636-a9f4-ceecd15a9e79",
    "_uuid": "af4832e85ef241bb21b82719809f8cf608b89c21"
   },
   "outputs": [],
   "source": [
    "predictions = models['tut'].predict_classes(X_test, verbose=0)\n",
    "\n",
    "submissions=pd.DataFrame({\"ImageId\": list(range(1,len(predictions)+1)),\n",
    "                         \"Label\": predictions})\n",
    "submissions.to_csv(\"prediction.csv\", index=False, header=True)"
   ]
  }
 ],
 "metadata": {
  "anaconda-cloud": {},
  "kernelspec": {
   "display_name": "Python [default]",
   "language": "python",
   "name": "python3"
  },
  "language_info": {
   "codemirror_mode": {
    "name": "ipython",
    "version": 3
   },
   "file_extension": ".py",
   "mimetype": "text/x-python",
   "name": "python",
   "nbconvert_exporter": "python",
   "pygments_lexer": "ipython3",
   "version": "3.5.4"
  },
  "toc": {
   "colors": {
    "hover_highlight": "#DAA520",
    "navigate_num": "#000000",
    "navigate_text": "#333333",
    "running_highlight": "#FF0000",
    "selected_highlight": "#FFD700",
    "sidebar_border": "#EEEEEE",
    "wrapper_background": "#FFFFFF"
   },
   "moveMenuLeft": true,
   "nav_menu": {
    "height": "12px",
    "width": "252px"
   },
   "navigate_menu": true,
   "number_sections": true,
   "sideBar": true,
   "threshold": 4,
   "toc_cell": false,
   "toc_section_display": "block",
   "toc_window_display": false,
   "widenNotebook": false
  }
 },
 "nbformat": 4,
 "nbformat_minor": 1
}
