{
 "cells": [
  {
   "cell_type": "code",
   "execution_count": 1,
   "metadata": {
    "collapsed": true
   },
   "outputs": [],
   "source": [
    "import sys\n",
    "sys.path.append(\"./\")"
   ]
  },
  {
   "cell_type": "code",
   "execution_count": 2,
   "metadata": {
    "collapsed": true
   },
   "outputs": [],
   "source": [
    "from collections import Counter\n",
    "\n",
    "def raw_majority_vote(labels):\n",
    "    votes = Counter(labels)\n",
    "    winner, _ = votes.most_common(1)[0]\n",
    "    return winner"
   ]
  },
  {
   "cell_type": "code",
   "execution_count": 43,
   "metadata": {
    "collapsed": true
   },
   "outputs": [],
   "source": [
    "def majority_vote(labels):\n",
    "    vote_counts = Counter(labels)\n",
    "    winner, winner_count = vote_counts.most_common(1)[0]\n",
    "    num_winners = len([count for count in vote_counts.values() if count == winner_count])\n",
    "    if num_winners == 1:\n",
    "        return winner\n",
    "    else:\n",
    "        return majority_vote(labels[:-1])"
   ]
  },
  {
   "cell_type": "code",
   "execution_count": 4,
   "metadata": {
    "collapsed": false
   },
   "outputs": [],
   "source": [
    "def knn_classify(k, labeled_points, new_point):\n",
    "    by_distance = sorted(labeled_points, key=lambda point_label: distance(point_label[0], new_point))    \n",
    "    k_nearest_labels = [label for _, label in by_distance[:k]]\n",
    "    return majority_vote(k_nearest_labels)"
   ]
  },
  {
   "cell_type": "code",
   "execution_count": 29,
   "metadata": {
    "collapsed": false
   },
   "outputs": [
    {
     "name": "stdout",
     "output_type": "stream",
     "text": [
      "[[5.1, 3.5, 1.4, 0.2, 'setosa'], [4.9, 3.0, 1.4, 0.2, 'setosa'], [4.7, 3.2, 1.3, 0.2, 'setosa'], [4.6, 3.1, 1.5, 0.2, 'setosa'], [5.0, 3.6, 1.4, 0.2, 'setosa']]\n"
     ]
    }
   ],
   "source": [
    "from lib.lin_alg_working_with_data import csv_read\n",
    "\n",
    "test_data = csv_read(\n",
    "    \"data/iris.csv\", \n",
    "    [float, float, float, float, str]\n",
    ")\n",
    "print(test_data[:5])"
   ]
  },
  {
   "cell_type": "code",
   "execution_count": 6,
   "metadata": {
    "collapsed": false
   },
   "outputs": [
    {
     "data": {
      "image/png": "[encoded data removed]",
      "text/plain": [
       "<matplotlib.figure.Figure at 0x7f71cfb1e0f0>"
      ]
     },
     "metadata": {},
     "output_type": "display_data"
    }
   ],
   "source": [
    "import matplotlib.pyplot as plt\n",
    "\n",
    "plots = {\"setosa\": ([], []), \"versicolor\": ([], []), \"virginica\": ([], [])}\n",
    "markers = {\"setosa\": \"o\", \"versicolor\": \"s\", \"virginica\": \"^\"}\n",
    "colors = {\"setosa\": \"r\", \"versicolor\": \"c\", \"virginica\": \"g\"}\n",
    "\n",
    "for sepal_length,sepal_width,petal_length,petal_width,species in test_data:\n",
    "    plots[species][0].append(sepal_length)\n",
    "    plots[species][1].append(sepal_width)\n",
    "    \n",
    "for species, (sepal_length,sepal_width) in plots.items():\n",
    "    plt.scatter(sepal_length, sepal_width, color=colors[species], marker=markers[species], label=species, zorder=10)\n",
    "\n",
    "plt.show()"
   ]
  },
  {
   "cell_type": "code",
   "execution_count": 16,
   "metadata": {
    "collapsed": false
   },
   "outputs": [
    {
     "data": {
      "image/png": "[encoded data removed]",
      "text/plain": [
       "<matplotlib.figure.Figure at 0x7f71cd5e49e8>"
      ]
     },
     "metadata": {},
     "output_type": "display_data"
    }
   ],
   "source": [
    "plots = {\"setosa\": ([], []), \"versicolor\": ([], []), \"virginica\": ([], [])}\n",
    "\n",
    "for sepal_length,sepal_width,petal_length,petal_width,species in test_data:\n",
    "    plots[species][0].append(petal_length)\n",
    "    plots[species][1].append(petal_width)\n",
    "    \n",
    "for species, (petal_length,petal_width) in plots.items():\n",
    "    plt.scatter(petal_length, petal_width, color=colors[species], marker=markers[species], label=species, zorder=10)\n",
    "\n",
    "plt.show()"
   ]
  },
  {
   "cell_type": "code",
   "execution_count": 14,
   "metadata": {
    "collapsed": false
   },
   "outputs": [
    {
     "name": "stdout",
     "output_type": "stream",
     "text": [
      "k: 1 neighbour[s]:  150 correct out of 150\n",
      "k: 3 neighbour[s]:  144 correct out of 150\n",
      "k: 5 neighbour[s]:  145 correct out of 150\n",
      "k: 7 neighbour[s]:  146 correct out of 150\n",
      "k: 11 neighbour[s]:  146 correct out of 150\n",
      "k: 14 neighbour[s]:  145 correct out of 150\n",
      "k: 15 neighbour[s]:  148 correct out of 150\n",
      "k: 16 neighbour[s]:  146 correct out of 150\n",
      "k: 20 neighbour[s]:  147 correct out of 150\n"
     ]
    }
   ],
   "source": [
    "from lib.lin_alg_vectors import *\n",
    "\n",
    "for k in [1,3,5,7,11,14, 15,16, 20]:\n",
    "    num_correct = 0\n",
    "    \n",
    "    for item in test_data:\n",
    "        sepal_length,sepal_width,petal_length,petal_width,species = item\n",
    "        other_items = [((o_sepal_length,o_sepal_width,o_petal_length,o_petal_width), o_species) for o_sepal_length,o_sepal_width,o_petal_length,o_petal_width,o_species in test_data if (o_sepal_length,o_sepal_width,o_petal_length,o_petal_width,o_species) != item]\n",
    "        predicted_species = knn_classify(k, other_items, (sepal_length,sepal_width,petal_length,petal_width))\n",
    "        \n",
    "        if predicted_species == species:\n",
    "            num_correct += 1\n",
    "            \n",
    "    print(\"k:\", k, \"neighbour[s]: \", num_correct, \"correct out of\", len(test_data))"
   ]
  },
  {
   "cell_type": "code",
   "execution_count": 19,
   "metadata": {
    "collapsed": false
   },
   "outputs": [
    {
     "name": "stdout",
     "output_type": "stream",
     "text": [
      "k: 1 neighbour[s]:  138 correct out of 150\n",
      "k: 3 neighbour[s]:  126 correct out of 150\n",
      "k: 5 neighbour[s]:  125 correct out of 150\n",
      "k: 7 neighbour[s]:  124 correct out of 150\n",
      "k: 11 neighbour[s]:  124 correct out of 150\n",
      "k: 14 neighbour[s]:  117 correct out of 150\n",
      "k: 15 neighbour[s]:  123 correct out of 150\n",
      "k: 16 neighbour[s]:  117 correct out of 150\n",
      "k: 20 neighbour[s]:  116 correct out of 150\n"
     ]
    }
   ],
   "source": [
    "from lib.lin_alg_vectors import *\n",
    "\n",
    "for k in [1,3,5,7,11,14, 15,16, 20]:\n",
    "    num_correct = 0\n",
    "    \n",
    "    for item in test_data:\n",
    "        sepal_length,sepal_width,petal_length,petal_width,species = item\n",
    "        other_items = [((o_sepal_length,o_sepal_width), o_species) for o_sepal_length,o_sepal_width,o_petal_length,o_petal_width,o_species in test_data if (o_sepal_length,o_sepal_width,o_petal_length,o_petal_width,o_species) != item]\n",
    "        predicted_species = knn_classify(k, other_items, (sepal_length,sepal_width))\n",
    "        \n",
    "        if predicted_species == species:\n",
    "            num_correct += 1\n",
    "            \n",
    "    print(\"k:\", k, \"neighbour[s]: \", num_correct, \"correct out of\", len(test_data))"
   ]
  },
  {
   "cell_type": "code",
   "execution_count": 20,
   "metadata": {
    "collapsed": false
   },
   "outputs": [
    {
     "name": "stdout",
     "output_type": "stream",
     "text": [
      "k: 1 neighbour[s]:  148 correct out of 150\n",
      "k: 3 neighbour[s]:  147 correct out of 150\n",
      "k: 5 neighbour[s]:  144 correct out of 150\n",
      "k: 7 neighbour[s]:  145 correct out of 150\n",
      "k: 11 neighbour[s]:  144 correct out of 150\n",
      "k: 14 neighbour[s]:  144 correct out of 150\n",
      "k: 15 neighbour[s]:  144 correct out of 150\n",
      "k: 16 neighbour[s]:  144 correct out of 150\n",
      "k: 20 neighbour[s]:  144 correct out of 150\n"
     ]
    }
   ],
   "source": [
    "from lib.lin_alg_vectors import *\n",
    "\n",
    "for k in [1,3,5,7,11,14, 15,16, 20]:\n",
    "    num_correct = 0\n",
    "    \n",
    "    for item in test_data:\n",
    "        sepal_length,sepal_width,petal_length,petal_width,species = item\n",
    "        other_items = [((o_petal_length,o_petal_width), o_species) for o_sepal_length,o_sepal_width,o_petal_length,o_petal_width,o_species in test_data if (o_sepal_length,o_sepal_width,o_petal_length,o_petal_width,o_species) != item]\n",
    "        predicted_species = knn_classify(k, other_items, (petal_length,petal_width))\n",
    "        \n",
    "        if predicted_species == species:\n",
    "            num_correct += 1\n",
    "            \n",
    "    print(\"k:\", k, \"neighbour[s]: \", num_correct, \"correct out of\", len(test_data))"
   ]
  },
  {
   "cell_type": "code",
   "execution_count": 44,
   "metadata": {
    "collapsed": false
   },
   "outputs": [
    {
     "data": {
      "image/png": "[encoded data removed]",
      "text/plain": [
       "<matplotlib.figure.Figure at 0x7f71ccfc8278>"
      ]
     },
     "metadata": {},
     "output_type": "display_data"
    }
   ],
   "source": [
    "from lib.lin_alg_matrices import *\n",
    "from math import floor, ceil\n",
    "import numpy as np\n",
    "\n",
    "plots = {\"setosa\": ([], []), \"versicolor\": ([], []), \"virginica\": ([], [])}\n",
    "k = 15\n",
    "\n",
    "min_sepal_length = ceil(min(get_column(test_data, 0)))\n",
    "max_sepal_length = floor(max(get_column(test_data, 0)))\n",
    "min_sepal_width = ceil(min(get_column(test_data, 1)))\n",
    "max_sepal_width = floor(max(get_column(test_data, 1)))\n",
    "min_petal_length = ceil(min(get_column(test_data, 2)))\n",
    "max_petal_length = floor(max(get_column(test_data, 2)))\n",
    "min_petal_width = ceil(min(get_column(test_data, 3)))\n",
    "max_petal_width = floor(max(get_column(test_data, 3)))\n",
    "\n",
    "items = [((o_sepal_length,o_sepal_width), o_species) for o_sepal_length,o_sepal_width,o_petal_length,o_petal_width,o_species in test_data]\n",
    "\n",
    "for sepal_length in np.arange(min_sepal_length, max_sepal_length, 0.1):\n",
    "    for sepal_width in np.arange(min_sepal_width, max_sepal_width, 0.1):\n",
    "        predicted_species = knn_classify(k, items, (sepal_length,sepal_width))\n",
    "        plots[predicted_species][0].append(sepal_length)\n",
    "        plots[predicted_species][1].append(sepal_width)\n",
    "        \n",
    "for species, (sepal_length,sepal_width) in plots.items():\n",
    "    plt.scatter(sepal_length, sepal_width, color=colors[species], marker=markers[species], label=species, zorder=10)\n",
    "\n",
    "plt.show()"
   ]
  },
  {
   "cell_type": "code",
   "execution_count": 48,
   "metadata": {
    "collapsed": false
   },
   "outputs": [
    {
     "data": {
      "image/png": "[encoded data removed]",
      "text/plain": [
       "<matplotlib.figure.Figure at 0x7f71ccf7e2e8>"
      ]
     },
     "metadata": {},
     "output_type": "display_data"
    }
   ],
   "source": [
    "plots = {\"setosa\": ([], []), \"versicolor\": ([], []), \"virginica\": ([], [])}\n",
    "for petal_length in np.arange(min_petal_length, max_petal_length, 0.1):\n",
    "    for petal_width in np.arange(min_petal_width, max_petal_width, 0.1):\n",
    "        predicted_species = knn_classify(k, items, (petal_length, petal_width))\n",
    "        plots[predicted_species][0].append(petal_length)\n",
    "        plots[predicted_species][1].append(petal_width)\n",
    "        \n",
    "for species, (petal_length, petal_width) in plots.items():\n",
    "    plt.scatter(petal_length, petal_width, color=colors[species], marker=markers[species], label=species, zorder=10)\n",
    "\n",
    "plt.show()"
   ]
  },
  {
   "cell_type": "code",
   "execution_count": 49,
   "metadata": {
    "collapsed": true
   },
   "outputs": [],
   "source": [
    "def random_point(dim):\n",
    "    return [random.random() for _ in range(dim)]"
   ]
  },
  {
   "cell_type": "code",
   "execution_count": 50,
   "metadata": {
    "collapsed": true
   },
   "outputs": [],
   "source": [
    "def random_distances(dim_num_pairs):\n",
    "    return[distance(random_point(dim), random_point(dim)) for _ in range(num_pairs)]"
   ]
  }
 ],
 "metadata": {
  "anaconda-cloud": {},
  "kernelspec": {
   "display_name": "Python [conda root]",
   "language": "python",
   "name": "conda-root-py"
  },
  "language_info": {
   "codemirror_mode": {
    "name": "ipython",
    "version": 3
   },
   "file_extension": ".py",
   "mimetype": "text/x-python",
   "name": "python",
   "nbconvert_exporter": "python",
   "pygments_lexer": "ipython3",
   "version": "3.5.2"
  },
  "toc": {
   "colors": {
    "hover_highlight": "#DAA520",
    "navigate_num": "#000000",
    "navigate_text": "#333333",
    "running_highlight": "#FF0000",
    "selected_highlight": "#FFD700",
    "sidebar_border": "#EEEEEE",
    "wrapper_background": "#FFFFFF"
   },
   "moveMenuLeft": true,
   "nav_menu": {
    "height": "12px",
    "width": "252px"
   },
   "navigate_menu": true,
   "number_sections": true,
   "sideBar": true,
   "threshold": 4,
   "toc_cell": false,
   "toc_section_display": "block",
   "toc_window_display": false,
   "widenNotebook": false
  }
 },
 "nbformat": 4,
 "nbformat_minor": 1
}
