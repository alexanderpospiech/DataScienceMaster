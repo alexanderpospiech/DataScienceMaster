{
 "cells": [
  {
   "cell_type": "code",
   "execution_count": 22,
   "metadata": {
    "collapsed": false
   },
   "outputs": [
    {
     "name": "stdout",
     "output_type": "stream",
     "text": [
      "['', '/home/apospiech/Programme/anaconda3/lib/python35.zip', '/home/apospiech/Programme/anaconda3/lib/python3.5', '/home/apospiech/Programme/anaconda3/lib/python3.5/plat-linux', '/home/apospiech/Programme/anaconda3/lib/python3.5/lib-dynload', '/home/apospiech/Programme/anaconda3/lib/python3.5/site-packages', '/home/apospiech/Programme/anaconda3/lib/python3.5/site-packages/Sphinx-1.4.6-py3.5.egg', '/home/apospiech/Programme/anaconda3/lib/python3.5/site-packages/json_delta-2.0-py3.5.egg', '/home/apospiech/Programme/anaconda3/lib/python3.5/site-packages/setuptools-27.2.0-py3.5.egg', '/home/apospiech/Programme/anaconda3/lib/python3.5/site-packages/thrift-0.9.3-py3.5.egg', '/home/apospiech/Programme/anaconda3/lib/python3.5/site-packages/thrift_sasl-0.2.1-py3.5.egg', '/home/apospiech/Programme/anaconda3/lib/python3.5/site-packages/IPython/extensions', '/home/apospiech/.ipython']\n",
      "['', '/home/apospiech/Programme/anaconda3/lib/python35.zip', '/home/apospiech/Programme/anaconda3/lib/python3.5', '/home/apospiech/Programme/anaconda3/lib/python3.5/plat-linux', '/home/apospiech/Programme/anaconda3/lib/python3.5/lib-dynload', '/home/apospiech/Programme/anaconda3/lib/python3.5/site-packages', '/home/apospiech/Programme/anaconda3/lib/python3.5/site-packages/Sphinx-1.4.6-py3.5.egg', '/home/apospiech/Programme/anaconda3/lib/python3.5/site-packages/json_delta-2.0-py3.5.egg', '/home/apospiech/Programme/anaconda3/lib/python3.5/site-packages/setuptools-27.2.0-py3.5.egg', '/home/apospiech/Programme/anaconda3/lib/python3.5/site-packages/thrift-0.9.3-py3.5.egg', '/home/apospiech/Programme/anaconda3/lib/python3.5/site-packages/thrift_sasl-0.2.1-py3.5.egg', '/home/apospiech/Programme/anaconda3/lib/python3.5/site-packages/IPython/extensions', '/home/apospiech/.ipython', './']\n"
     ]
    }
   ],
   "source": [
    "import sys\n",
    "print(sys.path)\n",
    "sys.path.append(\"./\")\n",
    "print(sys.path)"
   ]
  },
  {
   "cell_type": "code",
   "execution_count": 8,
   "metadata": {
    "collapsed": false
   },
   "outputs": [],
   "source": [
    "import matplotlib.pyplot as plt"
   ]
  },
  {
   "cell_type": "code",
   "execution_count": 3,
   "metadata": {
    "collapsed": false
   },
   "outputs": [],
   "source": [
    "def sum_of_squares(v):\n",
    "    return sum(v_i ** 2 for v_i in v)\n",
    "\n",
    "def square(x):\n",
    "    return x*x\n",
    "\n",
    "def derivative_of_square(x):\n",
    "    return 2*x"
   ]
  },
  {
   "cell_type": "code",
   "execution_count": 4,
   "metadata": {
    "collapsed": true
   },
   "outputs": [],
   "source": [
    "def difference_quotient(f, x, h):\n",
    "    return (f(x + h) - f(x)) / h"
   ]
  },
  {
   "cell_type": "code",
   "execution_count": 14,
   "metadata": {
    "collapsed": false
   },
   "outputs": [
    {
     "data": {
      "image/png": "[encoded data removed]",
      "text/plain": [
       "<matplotlib.figure.Figure at 0x7f6ee784e9b0>"
      ]
     },
     "metadata": {},
     "output_type": "display_data"
    }
   ],
   "source": [
    "from functools import partial\n",
    "\n",
    "derivative_estimate = partial(difference_quotient, square, h=0.00001)\n",
    "\n",
    "x = range(-10, 10)\n",
    "plt.plot(x, list(map(derivative_of_square, x)), 'rx', label='Actual')\n",
    "plt.plot(x, list(map(derivative_estimate, x)), 'b+', label='Estimate')\n",
    "plt.show()"
   ]
  },
  {
   "cell_type": "code",
   "execution_count": 18,
   "metadata": {
    "collapsed": true
   },
   "outputs": [],
   "source": [
    "def partial_difference_quotient(f, v, i, h):\n",
    "    w = [v_j + (h if j == i else 0) for j, v_j in enumerate(v)]\n",
    "    return (f(w) - f(v)) / h\n",
    "\n",
    "def estimate_gradient(f, v, h=0.00001):\n",
    "    return [partial_difference_quotient(f, v, i, h) for i, _ in enumerate(v)]"
   ]
  },
  {
   "cell_type": "code",
   "execution_count": 51,
   "metadata": {
    "collapsed": true
   },
   "outputs": [],
   "source": [
    "def step(v, direction, step_size):\n",
    "    print(\"step\", v, direction, step_size)\n",
    "    print([v_i + step_size * direction_i for v_i, direction_i in zip(v, direction)])\n",
    "    return [v_i + step_size * direction_i for v_i, direction_i in zip(v, direction)]\n",
    "\n",
    "def sum_of_squares_gradient(v):\n",
    "    return [2 * v_i for v_i in v]"
   ]
  },
  {
   "cell_type": "code",
   "execution_count": 34,
   "metadata": {
    "collapsed": false
   },
   "outputs": [
    {
     "name": "stdout",
     "output_type": "stream",
     "text": [
      "[-7, -5, -10]\n",
      "[-0.0, -0.0, -0.0]\n"
     ]
    }
   ],
   "source": [
    "import random\n",
    "from lib.lin_alg_vectors import *\n",
    "\n",
    "v = [random.randint(-10, 10) for i in range(3)]\n",
    "print(v)\n",
    "\n",
    "tolerance = 0.0000001\n",
    "\n",
    "while True:\n",
    "    gradient = sum_of_squares_gradient(v)\n",
    "    next_v = step(v, gradient, -0.01)\n",
    "    if distance(next_v, v) < tolerance:\n",
    "        break\n",
    "    v = next_v\n",
    "    \n",
    "print([round(v_i, 5) for v_i in v])"
   ]
  },
  {
   "cell_type": "code",
   "execution_count": 35,
   "metadata": {
    "collapsed": true
   },
   "outputs": [],
   "source": [
    "step_sizes = [100, 10, 1, 0.1, 0.01, 0.001, 0.0001, 0.00001]"
   ]
  },
  {
   "cell_type": "code",
   "execution_count": 36,
   "metadata": {
    "collapsed": true
   },
   "outputs": [],
   "source": [
    "def safe(f):\n",
    "    def safe_f(*arg, **kwargs):\n",
    "        try:\n",
    "            return f(*args, **kwargs)\n",
    "        except:\n",
    "            return float('inf')\n",
    "    return safe_f"
   ]
  },
  {
   "cell_type": "code",
   "execution_count": 49,
   "metadata": {
    "collapsed": true
   },
   "outputs": [],
   "source": [
    "def minimize_batch(target_fn, gradient_fn, theta_0, tolerance=0.000001):\n",
    "    theta = theta_0\n",
    "    target_fn = safe(target_fn)\n",
    "    value = target_fn(theta)\n",
    "    \n",
    "    step_sizes = [100, 10, 1, 0.1, 0.01, 0.001, 0.0001, 0.00001]\n",
    "    \n",
    "    i = 0\n",
    "    \n",
    "    while i < 10:\n",
    "        gradient = gradient_fn(theta)\n",
    "        print(\"before\", theta, gradient)\n",
    "        next_thetas = [step(theta, gradient, -step_size) for step_size in step_sizes]\n",
    "        \n",
    "        next_theta = min(next_thetas, key=target_fn)        \n",
    "        next_value = target_fn(next_theta)\n",
    "        print(\"after\", next_theta, next_value)\n",
    "        \n",
    "        if abs(value - next_value) < tolerance:\n",
    "            return theta\n",
    "        else:\n",
    "            theta, value = next_theta, next_value\n",
    "        i += 1"
   ]
  },
  {
   "cell_type": "code",
   "execution_count": 2,
   "metadata": {
    "collapsed": false
   },
   "outputs": [],
   "source": [
    "def negate(func):\n",
    "    return lambda *args, **kwargs: -func(*args, **kwargs)\n",
    "\n",
    "def negate_all(func):\n",
    "    return lambda *args, **kwargs: [-y for y in func(*args, **kwargs)]\n",
    "\n",
    "def maximize_batch(target_fn, gradient_fn, theta_0, tolerance=0.000001):\n",
    "    return minimize_batch(negate(target_fn),\n",
    "                         negate_all(gradient_fn),\n",
    "                         theta_0,\n",
    "                         tolerance)"
   ]
  },
  {
   "cell_type": "code",
   "execution_count": 54,
   "metadata": {
    "collapsed": true
   },
   "outputs": [],
   "source": [
    "def in_random_order(data):\n",
    "    indexes = [i for i, _ in enumerate(data)]\n",
    "    random.shuffle(indexes)\n",
    "    for i in indexes:\n",
    "        yield data[i]"
   ]
  },
  {
   "cell_type": "code",
   "execution_count": 55,
   "metadata": {
    "collapsed": true
   },
   "outputs": [],
   "source": [
    "def minimize_stochastic(target_fn, gradient_fn, x, y, theta_0, alpha_0=0.01):\n",
    "    data = zip(x,y)\n",
    "    theta = theta_0\n",
    "    alpha = alpha_0\n",
    "    min_theta = None\n",
    "    min_value = float(\"inf\")\n",
    "    iterations_with_no_improvement = 0\n",
    "    \n",
    "    while iterations_with_no_improvement < 100:\n",
    "        value = sum(target_fn(x_i, y_i, theta) for x_i, y_i in data)\n",
    "        \n",
    "        if value < min_value:\n",
    "            min_theta, min_value = theta, value\n",
    "            iterations_with_no_improvement = 0\n",
    "            alpha = alpha_0\n",
    "        else:\n",
    "            iterations_with_no_improvement += 1\n",
    "            alpha *= 0.9\n",
    "            \n",
    "        for x_i, y_i in in_random_order(data):\n",
    "            gradient_i = gradient_fn(x_i, y_i, theta)\n",
    "            theta = vector_subtract(theta, scalar_multiply(alpha, gradient_i))\n",
    "            \n",
    "    return min_theta"
   ]
  },
  {
   "cell_type": "code",
   "execution_count": 3,
   "metadata": {
    "collapsed": true
   },
   "outputs": [],
   "source": [
    "def maximize_stochastic(target_fn, gradient_fn, x, y, theta_0, alpha_0=0.01):\n",
    "    return minimize_stochastic(\n",
    "        negate(target_fn), \n",
    "        negate_all(gradient_fn),\n",
    "        x,\n",
    "        y,\n",
    "        theta_0,\n",
    "        alpha_0\n",
    "    )"
   ]
  }
 ],
 "metadata": {
  "anaconda-cloud": {},
  "kernelspec": {
   "display_name": "Python [conda root]",
   "language": "python",
   "name": "conda-root-py"
  },
  "language_info": {
   "codemirror_mode": {
    "name": "ipython",
    "version": 3
   },
   "file_extension": ".py",
   "mimetype": "text/x-python",
   "name": "python",
   "nbconvert_exporter": "python",
   "pygments_lexer": "ipython3",
   "version": "3.5.2"
  },
  "toc": {
   "colors": {
    "hover_highlight": "#DAA520",
    "navigate_num": "#000000",
    "navigate_text": "#333333",
    "running_highlight": "#FF0000",
    "selected_highlight": "#FFD700",
    "sidebar_border": "#EEEEEE",
    "wrapper_background": "#FFFFFF"
   },
   "moveMenuLeft": true,
   "nav_menu": {
    "height": "12px",
    "width": "252px"
   },
   "navigate_menu": true,
   "number_sections": true,
   "sideBar": true,
   "threshold": 4,
   "toc_cell": false,
   "toc_section_display": "block",
   "toc_window_display": false,
   "widenNotebook": false
  }
 },
 "nbformat": 4,
 "nbformat_minor": 1
}
