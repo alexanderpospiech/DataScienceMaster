{
 "cells": [
  {
   "cell_type": "code",
   "execution_count": 18,
   "metadata": {
    "collapsed": true
   },
   "outputs": [],
   "source": [
    "import sys\n",
    "sys.path.append(\"./\")"
   ]
  },
  {
   "cell_type": "code",
   "execution_count": 4,
   "metadata": {
    "collapsed": false
   },
   "outputs": [],
   "source": [
    "from collections import Counter, defaultdict\n",
    "import math, random, re, glob"
   ]
  },
  {
   "cell_type": "code",
   "execution_count": 1,
   "metadata": {
    "collapsed": true
   },
   "outputs": [],
   "source": [
    "def tokenize(message):\n",
    "    message = message.lower()\n",
    "    all_words = re.findall(\"[a-z0-9']+\", message)\n",
    "    return set(all_words)"
   ]
  },
  {
   "cell_type": "code",
   "execution_count": 13,
   "metadata": {
    "collapsed": false
   },
   "outputs": [],
   "source": [
    "def count_words(training_set):\n",
    "    counts = defaultdict(lambda: [0, 0])\n",
    "    for message, is_spam in training_set:\n",
    "        for word in tokenize(message):\n",
    "            counts[word][0 if is_spam else 1] += 1\n",
    "    return counts"
   ]
  },
  {
   "cell_type": "code",
   "execution_count": 33,
   "metadata": {
    "collapsed": false
   },
   "outputs": [],
   "source": [
    "def word_probabilities(counts, total_spams, total_non_spams, k=0.5):\n",
    "    return [(w,\n",
    "             (spam+k) / (total_spams + 2*k),\n",
    "             (non_spam+k) / (total_non_spams + 2*k))\n",
    "            for w, (spam, non_spam) in counts.items()\n",
    "           ]"
   ]
  },
  {
   "cell_type": "code",
   "execution_count": 37,
   "metadata": {
    "collapsed": false
   },
   "outputs": [],
   "source": [
    "def spam_probability(word_probabilities, message):\n",
    "    message_words = tokenize(message)\n",
    "    log_probability_if_spam = log_probability_if_not_spam = 0.0\n",
    "    \n",
    "    for word, prob_if_spam, prob_if_not_spam in word_probabilities:\n",
    "        if word in message_words:\n",
    "            log_probability_if_spam += math.log(prob_if_spam)\n",
    "            log_probability_if_not_spam += math.log(prob_if_not_spam)\n",
    "        else:            \n",
    "            log_probability_if_spam += math.log(1.0 - prob_if_spam)\n",
    "            log_probability_if_not_spam += math.log(1.0 - prob_if_not_spam)\n",
    "    \n",
    "    prob_if_spam = math.exp(log_probability_if_spam)\n",
    "    prob_if_not_spam = math.exp(log_probability_if_not_spam)\n",
    "    \n",
    "    return prob_if_spam / (prob_if_spam / prob_if_not_spam)"
   ]
  },
  {
   "cell_type": "code",
   "execution_count": 31,
   "metadata": {
    "collapsed": true
   },
   "outputs": [],
   "source": [
    "class NaiveBayesClassifier:\n",
    "    \n",
    "    def __init__(self, k=0.5):\n",
    "        self.k = k\n",
    "        self.word_probs = []\n",
    "        \n",
    "    def train(self, training_set):\n",
    "        num_spams = len([is_spam for message, is_spam in training_set if is_spam])\n",
    "        num_non_spams = len(training_set) - num_spams\n",
    "        \n",
    "        word_counts = count_words(training_set)\n",
    "        self.word_probs = word_probabilities(word_counts, num_spams, num_non_spams, self.k)\n",
    "        \n",
    "    def classifiy(self, message):\n",
    "        return spam_probability(self.word_probs, message)"
   ]
  },
  {
   "cell_type": "code",
   "execution_count": 45,
   "metadata": {
    "collapsed": false
   },
   "outputs": [
    {
     "name": "stdout",
     "output_type": "stream",
     "text": [
      "Counter({(False, False): 737, (True, False): 139})\n",
      "spammiest_hams [('Feeling Lucky', False, 0.0009335424922000174), ('Whither vCard?', False, 0.0009335424922000174), ('Artist Gallery: Troy Paradise', False, 0.0009335424922000174), ('Warchalking FAQ', False, 0.0009335424922000174), ('Cobain dispute settled', False, 0.0009335424922000174)]\n",
      "hammiest_spams [('Over $100,000 Per Year Possible On The Net!  No Illegal MLM Junk! Time:11:43:57 PM', True, 5.518959318980145e-41), ('Get your own fountain of youth! HGH human growth hormone from 21st Century!17441', True, 2.1719292200646804e-35), ('International calls for only 33 cents per minute with no subscription', True, 6.875356518975671e-34), ('Please help Home Entertainment Companies with Survey - Win a DVR!', True, 2.7707171044747665e-30), ('Attn: How about being a few pounds lighter?OLIBYKN', True, 3.798580255266521e-30)]\n",
      "spammiest_words [('only', 0.028767123287671233, 0.00022893772893772894), ('systemworks', 0.028767123287671233, 0.00022893772893772894), ('adv', 0.036986301369863014, 0.00022893772893772894), ('money', 0.036986301369863014, 0.00022893772893772894), ('rates', 0.03972602739726028, 0.00022893772893772894)]\n",
      "hammiest_words [('spambayes', 0.0013698630136986301, 0.046474358974358976), ('users', 0.0013698630136986301, 0.03914835164835165), ('razor', 0.0013698630136986301, 0.03273809523809524), ('zzzzteana', 0.0013698630136986301, 0.029990842490842492), ('sadev', 0.0013698630136986301, 0.026785714285714284)]\n"
     ]
    }
   ],
   "source": [
    "from lib.lin_alg_machine_learning import *\n",
    "\n",
    "path = \"./spam_data/*/*\"\n",
    "data = []\n",
    "\n",
    "for filename in glob.glob(path):\n",
    "    is_spam = \"ham\" not in filename\n",
    "    with open(filename, \"r\", encoding='ISO-8859-1') as file:\n",
    "        for line in file:\n",
    "            if line.startswith(\"Subject:\"):\n",
    "                subject = re.sub(r\"^Subject: \", \"\", line).strip()\n",
    "                data.append((subject, is_spam))\n",
    "\n",
    "random.seed(0)\n",
    "train_data, test_data = split_data(data, 0.75)\n",
    "\n",
    "classifier = NaiveBayesClassifier()\n",
    "classifier.train(train_data)\n",
    "\n",
    "classified = [(subject, is_spam, classifier.classifiy(subject)) for subject, is_spam in test_data]\n",
    "\n",
    "counts = Counter((is_spam, spam_probability > 0.5) for _, is_spam, spam_probability in classified)\n",
    "\n",
    "print(counts)\n",
    "\n",
    "classified.sort(key=lambda row: row[2])\n",
    "\n",
    "def p_spam_given_word(word_prob):\n",
    "    word, prob_if_spam, prob_if_not_spam = word_prob\n",
    "    return prob_if_spam / (prob_if_spam + prob_if_not_spam)\n",
    "\n",
    "spammiest_hams = list(filter(lambda row: not row[1], classified))[-5:]\n",
    "hammiest_spams = list(filter(lambda row: row[1], classified))[:5]\n",
    "\n",
    "print(\"spammiest_hams\", spammiest_hams)\n",
    "print(\"hammiest_spams\", hammiest_spams)\n",
    "\n",
    "words = sorted(classifier.word_probs, key=p_spam_given_word)\n",
    "\n",
    "spammiest_words = words[-5:]\n",
    "hammiest_words = words[:5]\n",
    "\n",
    "print(\"spammiest_words\", spammiest_words)\n",
    "print(\"hammiest_words\", hammiest_words)\n"
   ]
  }
 ],
 "metadata": {
  "anaconda-cloud": {},
  "kernelspec": {
   "display_name": "Python [conda root]",
   "language": "python",
   "name": "conda-root-py"
  },
  "language_info": {
   "codemirror_mode": {
    "name": "ipython",
    "version": 3
   },
   "file_extension": ".py",
   "mimetype": "text/x-python",
   "name": "python",
   "nbconvert_exporter": "python",
   "pygments_lexer": "ipython3",
   "version": "3.5.2"
  },
  "toc": {
   "colors": {
    "hover_highlight": "#DAA520",
    "navigate_num": "#000000",
    "navigate_text": "#333333",
    "running_highlight": "#FF0000",
    "selected_highlight": "#FFD700",
    "sidebar_border": "#EEEEEE",
    "wrapper_background": "#FFFFFF"
   },
   "moveMenuLeft": true,
   "nav_menu": {
    "height": "12px",
    "width": "252px"
   },
   "navigate_menu": true,
   "number_sections": true,
   "sideBar": true,
   "threshold": 4,
   "toc_cell": false,
   "toc_section_display": "block",
   "toc_window_display": false,
   "widenNotebook": false
  }
 },
 "nbformat": 4,
 "nbformat_minor": 1
}
