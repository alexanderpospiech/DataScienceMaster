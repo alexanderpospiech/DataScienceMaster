{
 "cells": [
  {
   "cell_type": "code",
   "execution_count": null,
   "metadata": {
    "collapsed": true
   },
   "outputs": [],
   "source": [
    "import numpy as np"
   ]
  },
  {
   "cell_type": "markdown",
   "metadata": {},
   "source": [
    "# Scalars"
   ]
  },
  {
   "cell_type": "markdown",
   "metadata": {},
   "source": [
    "# Vectors"
   ]
  },
  {
   "cell_type": "code",
   "execution_count": 43,
   "metadata": {
    "collapsed": false
   },
   "outputs": [
    {
     "name": "stdout",
     "output_type": "stream",
     "text": [
      "0th element of v: [9]\n",
      "2nd element of v: [11]\n"
     ]
    }
   ],
   "source": [
    "\n",
    "v = np.array([[9],[10],[11]])\n",
    "\n",
    "print(\"0th element of v:\", v[0])\n",
    "print(\"2nd element of v:\", v[2])"
   ]
  },
  {
   "cell_type": "markdown",
   "metadata": {},
   "source": [
    "# Matrics"
   ]
  },
  {
   "cell_type": "code",
   "execution_count": 14,
   "metadata": {
    "collapsed": false
   },
   "outputs": [
    {
     "name": "stdout",
     "output_type": "stream",
     "text": [
      "[[1 2]\n",
      " [3 4]]\n",
      "0,0 element of x: 1\n",
      "1,1 element of x: 4\n"
     ]
    }
   ],
   "source": [
    "x = np.array([[1,2],[3,4]])\n",
    "\n",
    "print(\"0,0 element of x:\", x[0][0])\n",
    "print(\"1,1 element of x:\", x[1][1])"
   ]
  },
  {
   "cell_type": "code",
   "execution_count": 22,
   "metadata": {
    "collapsed": false
   },
   "outputs": [
    {
     "name": "stdout",
     "output_type": "stream",
     "text": [
      "[[1 2]\n",
      " [3 4]]\n"
     ]
    }
   ],
   "source": [
    "print(np.mat(x))"
   ]
  },
  {
   "cell_type": "markdown",
   "metadata": {},
   "source": [
    "# Tensors"
   ]
  },
  {
   "cell_type": "code",
   "execution_count": 11,
   "metadata": {
    "collapsed": false
   },
   "outputs": [
    {
     "name": "stdout",
     "output_type": "stream",
     "text": [
      "1\n",
      "13\n"
     ]
    }
   ],
   "source": [
    "y = np.array(\n",
    "    [\n",
    "        [\n",
    "            [1, 2, 3],\n",
    "            [4, 5, 6],\n",
    "            [7, 8, 9]\n",
    "        ],\n",
    "        [\n",
    "            [11, 12, 13],\n",
    "            [14, 15, 16],\n",
    "            [17, 18, 19]\n",
    "        ]\n",
    "    ]\n",
    ")\n",
    "print(y[0][0][0])\n",
    "print(y[1][0][2])"
   ]
  },
  {
   "cell_type": "markdown",
   "metadata": {},
   "source": [
    "# Transpose"
   ]
  },
  {
   "cell_type": "code",
   "execution_count": 13,
   "metadata": {
    "collapsed": false
   },
   "outputs": [
    {
     "name": "stdout",
     "output_type": "stream",
     "text": [
      "[[1 3]\n",
      " [2 4]]\n"
     ]
    }
   ],
   "source": [
    "x_t = np.transpose(x)\n",
    "\n",
    "print(\"Matrix\")\n",
    "print(x)\n",
    "print(\"transposed Matrix\")\n",
    "print(x_t)"
   ]
  },
  {
   "cell_type": "code",
   "execution_count": 16,
   "metadata": {
    "collapsed": false
   },
   "outputs": [
    {
     "name": "stdout",
     "output_type": "stream",
     "text": [
      "Matrix\n",
      "[[1 2]\n",
      " [3 4]\n",
      " [5 6]]\n",
      "transposed Matrix\n",
      "[[1 3 5]\n",
      " [2 4 6]]\n",
      "5\n",
      "5\n"
     ]
    }
   ],
   "source": [
    "y = np.array([[1,2],[3,4],[5,6]])\n",
    "y_t = np.transpose(y)\n",
    "\n",
    "\n",
    "print(\"Matrix\")\n",
    "print(y)\n",
    "print(\"transposed Matrix\")\n",
    "print(y_t)\n",
    "\n",
    "print(\"transposed elements\")\n",
    "print(y[2][0])\n",
    "print(y_t[0][2])"
   ]
  },
  {
   "cell_type": "markdown",
   "metadata": {},
   "source": [
    "# Matrix operations"
   ]
  },
  {
   "cell_type": "code",
   "execution_count": 19,
   "metadata": {
    "collapsed": false
   },
   "outputs": [
    {
     "name": "stdout",
     "output_type": "stream",
     "text": [
      "[[1 2]\n",
      " [3 4]]\n",
      "[[ 5  7]\n",
      " [ 9 11]]\n"
     ]
    }
   ],
   "source": [
    "print(x)\n",
    "x_2 = 2*x + 3\n",
    "print(x_2)"
   ]
  },
  {
   "cell_type": "code",
   "execution_count": 20,
   "metadata": {
    "collapsed": false
   },
   "outputs": [
    {
     "name": "stdout",
     "output_type": "stream",
     "text": [
      "[[ 6  9]\n",
      " [12 15]]\n",
      "[[ 5 14]\n",
      " [27 44]]\n"
     ]
    }
   ],
   "source": [
    "print(x+x_2)\n",
    "print(x*x_2)"
   ]
  },
  {
   "cell_type": "code",
   "execution_count": 21,
   "metadata": {
    "collapsed": false
   },
   "outputs": [
    {
     "name": "stdout",
     "output_type": "stream",
     "text": [
      "[[23 29]\n",
      " [51 65]]\n"
     ]
    }
   ],
   "source": [
    "print(np.dot(x, x_2))"
   ]
  },
  {
   "cell_type": "code",
   "execution_count": 23,
   "metadata": {
    "collapsed": false
   },
   "outputs": [
    {
     "name": "stdout",
     "output_type": "stream",
     "text": [
      "[[23 29]\n",
      " [51 65]]\n"
     ]
    }
   ],
   "source": [
    "print(np.mat(x) * np.mat(x_2))"
   ]
  },
  {
   "cell_type": "markdown",
   "metadata": {},
   "source": [
    "# Matrix Associativity, Distributivity, Commutative"
   ]
  },
  {
   "cell_type": "code",
   "execution_count": 31,
   "metadata": {
    "collapsed": false
   },
   "outputs": [],
   "source": [
    "x_10 = np.array([[1, 2], [3, 4]])\n",
    "x_11 = np.array([[5, 6], [7, 8]])\n",
    "x_12 = np.array([[9, 10], [11, 12]])"
   ]
  },
  {
   "cell_type": "code",
   "execution_count": 32,
   "metadata": {
    "collapsed": false
   },
   "outputs": [
    {
     "name": "stdout",
     "output_type": "stream",
     "text": [
      "Distributive\n",
      "[[14 32]\n",
      " [54 80]]\n",
      "[[14 32]\n",
      " [54 80]]\n",
      "Associative\n",
      "[[ 45 120]\n",
      " [231 384]]\n",
      "[[ 45 120]\n",
      " [231 384]]\n",
      "Commutative\n",
      "[[ 5 12]\n",
      " [21 32]]\n",
      "[[ 5 12]\n",
      " [21 32]]\n"
     ]
    }
   ],
   "source": [
    "print(\"Distributive\")\n",
    "print(x_10*(x_11+x_12))\n",
    "print(x_10*x_11 + x_10*x_12)\n",
    "\n",
    "print(\"Associative\")\n",
    "print(x_10*(x_11*x_12))\n",
    "print((x_10*x_11)*x_12)\n",
    "\n",
    "print(\"Commutative\")\n",
    "print(x_10*x_11)\n",
    "print(x_11*x_10)"
   ]
  },
  {
   "cell_type": "code",
   "execution_count": 36,
   "metadata": {
    "collapsed": false
   },
   "outputs": [
    {
     "name": "stdout",
     "output_type": "stream",
     "text": [
      "Distributive\n",
      "[[ 50  56]\n",
      " [114 128]]\n",
      "[[ 50  56]\n",
      " [114 128]]\n",
      "Associative\n",
      "[[ 413  454]\n",
      " [ 937 1030]]\n",
      "[[ 413  454]\n",
      " [ 937 1030]]\n",
      "Not Commutative!\n",
      "[[19 22]\n",
      " [43 50]]\n",
      "[[23 34]\n",
      " [31 46]]\n"
     ]
    }
   ],
   "source": [
    "print(\"Distributive\")\n",
    "print(np.dot(x_10, (x_11+x_12)))\n",
    "print(np.dot(x_10, x_11) + np.dot(x_10, x_12))\n",
    "\n",
    "print(\"Associative\")\n",
    "print(np.dot(x_10, np.dot(x_11, x_12)))\n",
    "print(np.dot(np.dot(x_10, x_11), x_12))\n",
    "\n",
    "print(\"Not Commutative!\")\n",
    "print(np.dot(x_10, x_11))\n",
    "print(np.dot(x_11, x_10))"
   ]
  },
  {
   "cell_type": "code",
   "execution_count": 38,
   "metadata": {
    "collapsed": false
   },
   "outputs": [
    {
     "name": "stdout",
     "output_type": "stream",
     "text": [
      "[[ 5 21]\n",
      " [12 32]]\n",
      "[[ 5 21]\n",
      " [12 32]]\n",
      "[[19 43]\n",
      " [22 50]]\n",
      "[[19 43]\n",
      " [22 50]]\n"
     ]
    }
   ],
   "source": [
    "print(np.transpose(x_10*x_11))\n",
    "print(np.transpose(x_10)*np.transpose(x_11))\n",
    "print(np.transpose(np.dot(x_10, x_11)))\n",
    "print(np.dot(np.transpose(x_11), np.transpose(x_10)))"
   ]
  },
  {
   "cell_type": "markdown",
   "metadata": {},
   "source": [
    "# Linear equation as Matrix-Vector-Multiplication"
   ]
  },
  {
   "cell_type": "code",
   "execution_count": 44,
   "metadata": {
    "collapsed": false
   },
   "outputs": [
    {
     "name": "stdout",
     "output_type": "stream",
     "text": [
      "[[ 1  2]\n",
      " [ 6  8]\n",
      " [15 18]]\n"
     ]
    },
    {
     "ename": "ValueError",
     "evalue": "shapes (3,2) and (3,1) not aligned: 2 (dim 1) != 3 (dim 0)",
     "output_type": "error",
     "traceback": [
      "\u001b[0;31m---------------------------------------------------------------------------\u001b[0m",
      "\u001b[0;31mValueError\u001b[0m                                Traceback (most recent call last)",
      "\u001b[0;32m<ipython-input-44-e4e20209a6ef>\u001b[0m in \u001b[0;36m<module>\u001b[0;34m()\u001b[0m\n\u001b[1;32m      3\u001b[0m \u001b[0;34m\u001b[0m\u001b[0m\n\u001b[1;32m      4\u001b[0m \u001b[0mprint\u001b[0m\u001b[0;34m(\u001b[0m\u001b[0mx_20\u001b[0m \u001b[0;34m*\u001b[0m \u001b[0mv_20\u001b[0m\u001b[0;34m)\u001b[0m\u001b[0;34m\u001b[0m\u001b[0m\n\u001b[0;32m----> 5\u001b[0;31m \u001b[0mprint\u001b[0m\u001b[0;34m(\u001b[0m\u001b[0mnp\u001b[0m\u001b[0;34m.\u001b[0m\u001b[0mdot\u001b[0m\u001b[0;34m(\u001b[0m\u001b[0mx_20\u001b[0m\u001b[0;34m,\u001b[0m \u001b[0mv_20\u001b[0m\u001b[0;34m)\u001b[0m\u001b[0;34m)\u001b[0m\u001b[0;34m\u001b[0m\u001b[0m\n\u001b[0m",
      "\u001b[0;31mValueError\u001b[0m: shapes (3,2) and (3,1) not aligned: 2 (dim 1) != 3 (dim 0)"
     ]
    }
   ],
   "source": [
    "x_20 = np.array(\n",
    "[[1, 2], \n",
    " [3, 4], \n",
    " [5, 6]])\n",
    "v_20 = np.array([[1],[2],[3]])\n",
    "\n",
    "print(x_20 * v_20)\n",
    "print(np.dot(x_20, v_20))"
   ]
  },
  {
   "cell_type": "markdown",
   "metadata": {},
   "source": [
    "# Identity Matrix"
   ]
  },
  {
   "cell_type": "code",
   "execution_count": 46,
   "metadata": {
    "collapsed": false
   },
   "outputs": [
    {
     "name": "stdout",
     "output_type": "stream",
     "text": [
      "[[ 1.  0.]\n",
      " [ 0.  1.]]\n"
     ]
    }
   ],
   "source": [
    "x_i = np.identity(2)\n",
    "print(x_i)"
   ]
  },
  {
   "cell_type": "markdown",
   "metadata": {},
   "source": [
    "# Diagonal Matrix"
   ]
  },
  {
   "cell_type": "code",
   "execution_count": 50,
   "metadata": {
    "collapsed": false
   },
   "outputs": [
    {
     "name": "stdout",
     "output_type": "stream",
     "text": [
      "[[1 0 0]\n",
      " [0 2 0]\n",
      " [0 0 3]]\n",
      "[[1 0 0]\n",
      " [0 2 0]\n",
      " [0 0 3]]\n"
     ]
    }
   ],
   "source": [
    "x_d = np.diag([1, 2, 3])\n",
    "print(x_d)\n",
    "print(np.transpose(x_d))"
   ]
  },
  {
   "cell_type": "code",
   "execution_count": null,
   "metadata": {
    "collapsed": true
   },
   "outputs": [],
   "source": []
  }
 ],
 "metadata": {
  "anaconda-cloud": {},
  "kernelspec": {
   "display_name": "Python [conda root]",
   "language": "python",
   "name": "conda-root-py"
  },
  "language_info": {
   "codemirror_mode": {
    "name": "ipython",
    "version": 3
   },
   "file_extension": ".py",
   "mimetype": "text/x-python",
   "name": "python",
   "nbconvert_exporter": "python",
   "pygments_lexer": "ipython3",
   "version": "3.5.2"
  },
  "toc": {
   "colors": {
    "hover_highlight": "#DAA520",
    "navigate_num": "#000000",
    "navigate_text": "#333333",
    "running_highlight": "#FF0000",
    "selected_highlight": "#FFD700",
    "sidebar_border": "#EEEEEE",
    "wrapper_background": "#FFFFFF"
   },
   "moveMenuLeft": true,
   "nav_menu": {
    "height": "211px",
    "width": "252px"
   },
   "navigate_menu": true,
   "number_sections": true,
   "sideBar": true,
   "threshold": 4,
   "toc_cell": false,
   "toc_section_display": "block",
   "toc_window_display": false,
   "widenNotebook": false
  }
 },
 "nbformat": 4,
 "nbformat_minor": 1
}
