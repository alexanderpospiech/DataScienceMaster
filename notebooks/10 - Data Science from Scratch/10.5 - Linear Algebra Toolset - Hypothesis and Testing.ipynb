{
 "cells": [
  {
   "cell_type": "code",
   "execution_count": 1,
   "metadata": {
    "collapsed": false
   },
   "outputs": [
    {
     "name": "stdout",
     "output_type": "stream",
     "text": [
      "['', '/home/apospiech/Programme/anaconda3/lib/python35.zip', '/home/apospiech/Programme/anaconda3/lib/python3.5', '/home/apospiech/Programme/anaconda3/lib/python3.5/plat-linux', '/home/apospiech/Programme/anaconda3/lib/python3.5/lib-dynload', '/home/apospiech/Programme/anaconda3/lib/python3.5/site-packages', '/home/apospiech/Programme/anaconda3/lib/python3.5/site-packages/Sphinx-1.4.6-py3.5.egg', '/home/apospiech/Programme/anaconda3/lib/python3.5/site-packages/json_delta-2.0-py3.5.egg', '/home/apospiech/Programme/anaconda3/lib/python3.5/site-packages/setuptools-27.2.0-py3.5.egg', '/home/apospiech/Programme/anaconda3/lib/python3.5/site-packages/thrift-0.9.3-py3.5.egg', '/home/apospiech/Programme/anaconda3/lib/python3.5/site-packages/thrift_sasl-0.2.1-py3.5.egg', '/home/apospiech/Programme/anaconda3/lib/python3.5/site-packages/IPython/extensions', '/home/apospiech/.ipython']\n",
      "['', '/home/apospiech/Programme/anaconda3/lib/python35.zip', '/home/apospiech/Programme/anaconda3/lib/python3.5', '/home/apospiech/Programme/anaconda3/lib/python3.5/plat-linux', '/home/apospiech/Programme/anaconda3/lib/python3.5/lib-dynload', '/home/apospiech/Programme/anaconda3/lib/python3.5/site-packages', '/home/apospiech/Programme/anaconda3/lib/python3.5/site-packages/Sphinx-1.4.6-py3.5.egg', '/home/apospiech/Programme/anaconda3/lib/python3.5/site-packages/json_delta-2.0-py3.5.egg', '/home/apospiech/Programme/anaconda3/lib/python3.5/site-packages/setuptools-27.2.0-py3.5.egg', '/home/apospiech/Programme/anaconda3/lib/python3.5/site-packages/thrift-0.9.3-py3.5.egg', '/home/apospiech/Programme/anaconda3/lib/python3.5/site-packages/thrift_sasl-0.2.1-py3.5.egg', '/home/apospiech/Programme/anaconda3/lib/python3.5/site-packages/IPython/extensions', '/home/apospiech/.ipython', './']\n"
     ]
    }
   ],
   "source": [
    "import sys\n",
    "print(sys.path)\n",
    "sys.path.append(\"./\")\n",
    "print(sys.path)"
   ]
  },
  {
   "cell_type": "code",
   "execution_count": 2,
   "metadata": {
    "collapsed": true
   },
   "outputs": [],
   "source": [
    "from lib.lin_alg_probability import *"
   ]
  },
  {
   "cell_type": "code",
   "execution_count": null,
   "metadata": {
    "collapsed": true
   },
   "outputs": [],
   "source": [
    "from math import sqrt"
   ]
  },
  {
   "cell_type": "code",
   "execution_count": 12,
   "metadata": {
    "collapsed": true
   },
   "outputs": [],
   "source": [
    "def normal_approximation_to_binomial(n, p):\n",
    "    mu = p * n\n",
    "    sigma = sqrt(p * (1 - p) * n)\n",
    "    return mu, sigma"
   ]
  },
  {
   "cell_type": "code",
   "execution_count": 23,
   "metadata": {
    "collapsed": true
   },
   "outputs": [],
   "source": [
    "normal_probability_below = normal_cdf\n",
    "\n",
    "def normal_probability_above(low, mu=0, sigma=1):\n",
    "    return 1 - normal_cdf(low, mu, sigma)\n",
    "\n",
    "def normal_probability_between(low, high, mu=0, sigma=1):\n",
    "    return normal_cdf(high, mu, sigma) - normal_cdf(low, mu, sigma)\n",
    "\n",
    "def normal_probability_outside(low, high, mu=0, sigma=1):\n",
    "    return 1- normal_probability_between(low, high, mu, sigma)"
   ]
  },
  {
   "cell_type": "code",
   "execution_count": 10,
   "metadata": {
    "collapsed": true
   },
   "outputs": [],
   "source": [
    "def normal_upper_bound(p, mu=0, sigma=1):\n",
    "    return inverse_normal_cdf(p, mu, sigma)\n",
    "\n",
    "def normal_lower_bound(p, mu=0, sigma=1):\n",
    "    return inverse_normal_cdf(1 - p, mu, sigma)\n",
    "\n",
    "def normal_two_sided_bounds(p, mu=0, sigma=1):\n",
    "    tail_p = (1 - p) / 2\n",
    "    upper_bound = normal_lower_bound(tail_p, mu, sigma)\n",
    "    lower_bound = normal_upper_bound(tail_p, mu, sigma)\n",
    "    \n",
    "    return lower_bound, upper_bound"
   ]
  },
  {
   "cell_type": "code",
   "execution_count": 19,
   "metadata": {
    "collapsed": false
   },
   "outputs": [
    {
     "name": "stdout",
     "output_type": "stream",
     "text": [
      "500.0 15.811388300841896\n"
     ]
    }
   ],
   "source": [
    "mu_0, sigma_0 = normal_approximation_to_binomial(1000, 0.5)\n",
    "print(mu_0, sigma_0)"
   ]
  },
  {
   "cell_type": "code",
   "execution_count": 20,
   "metadata": {
    "collapsed": false
   },
   "outputs": [
    {
     "name": "stdout",
     "output_type": "stream",
     "text": [
      "469.01026640487555 530.9897335951244\n"
     ]
    }
   ],
   "source": [
    "low, high = normal_two_sided_bounds(0.95, mu_0, sigma_0)\n",
    "print(low, high)"
   ]
  },
  {
   "cell_type": "code",
   "execution_count": 28,
   "metadata": {
    "collapsed": false
   },
   "outputs": [
    {
     "name": "stdout",
     "output_type": "stream",
     "text": [
      "550.0 15.732132722552274\n",
      "0.8865480012953671\n"
     ]
    }
   ],
   "source": [
    "mu_1, sigma_1 = normal_approximation_to_binomial(1000, 0.55)\n",
    "print(mu_1, sigma_1)\n",
    "type_2_probability = normal_probability_between(low, high, mu_1, sigma_1)\n",
    "power = 1 - type_2_probability\n",
    "print(power)"
   ]
  },
  {
   "cell_type": "code",
   "execution_count": 29,
   "metadata": {
    "collapsed": false
   },
   "outputs": [
    {
     "name": "stdout",
     "output_type": "stream",
     "text": [
      "526.0073585242053\n",
      "0.9363794803307173\n"
     ]
    }
   ],
   "source": [
    "high = normal_upper_bound(0.95, mu_0, sigma_0)\n",
    "print(high)\n",
    "\n",
    "type_2_probability = normal_probability_below(high, mu_1, sigma_1)\n",
    "power = 1 - type_2_probability\n",
    "print(power)"
   ]
  },
  {
   "cell_type": "markdown",
   "metadata": {},
   "source": [
    "# p-values"
   ]
  },
  {
   "cell_type": "code",
   "execution_count": 30,
   "metadata": {
    "collapsed": true
   },
   "outputs": [],
   "source": [
    "def two_sided_p_value(x, mu=0, sigma=1):\n",
    "    if x >= mu:\n",
    "        return 2*normal_probability_above(x, mu, sigma)\n",
    "    else: \n",
    "        return 2*normal_probability_below(x, mu, sigma)"
   ]
  },
  {
   "cell_type": "code",
   "execution_count": 33,
   "metadata": {
    "collapsed": false
   },
   "outputs": [
    {
     "data": {
      "text/plain": [
       "0.06207721579598857"
      ]
     },
     "execution_count": 33,
     "metadata": {},
     "output_type": "execute_result"
    }
   ],
   "source": [
    "two_sided_p_value(529.5, mu_0, sigma_0)"
   ]
  },
  {
   "cell_type": "code",
   "execution_count": 39,
   "metadata": {
    "collapsed": false
   },
   "outputs": [
    {
     "name": "stdout",
     "output_type": "stream",
     "text": [
      "0.06082\n"
     ]
    }
   ],
   "source": [
    "import random\n",
    "\n",
    "extreme_value_count = 0\n",
    "for _ in range(100000):\n",
    "    num_heads = sum(1 if random.random() < 0.5 else 0 for _ in range(1000))\n",
    "    if num_heads >= 530 or num_heads <= 470:\n",
    "        extreme_value_count += 1\n",
    "        \n",
    "print(extreme_value_count / 100000)"
   ]
  },
  {
   "cell_type": "code",
   "execution_count": 40,
   "metadata": {
    "collapsed": false
   },
   "outputs": [
    {
     "data": {
      "text/plain": [
       "0.046345287837786575"
      ]
     },
     "execution_count": 40,
     "metadata": {},
     "output_type": "execute_result"
    }
   ],
   "source": [
    "two_sided_p_value(531.5, mu_0, sigma_0)"
   ]
  },
  {
   "cell_type": "code",
   "execution_count": 41,
   "metadata": {
    "collapsed": true
   },
   "outputs": [],
   "source": [
    "upper_p_value = normal_probability_above\n",
    "lower_p_value = normal_probability_below"
   ]
  },
  {
   "cell_type": "code",
   "execution_count": 42,
   "metadata": {
    "collapsed": false
   },
   "outputs": [
    {
     "data": {
      "text/plain": [
       "0.06062885772582083"
      ]
     },
     "execution_count": 42,
     "metadata": {},
     "output_type": "execute_result"
    }
   ],
   "source": [
    "upper_p_value(524.5, mu_0, sigma_0)"
   ]
  },
  {
   "cell_type": "code",
   "execution_count": 43,
   "metadata": {
    "collapsed": false
   },
   "outputs": [
    {
     "data": {
      "text/plain": [
       "0.04686839508859242"
      ]
     },
     "execution_count": 43,
     "metadata": {},
     "output_type": "execute_result"
    }
   ],
   "source": [
    "upper_p_value(526.5, mu_0, sigma_0)"
   ]
  },
  {
   "cell_type": "markdown",
   "metadata": {},
   "source": [
    "# Confidence Intervals"
   ]
  },
  {
   "cell_type": "code",
   "execution_count": 45,
   "metadata": {
    "collapsed": false
   },
   "outputs": [
    {
     "name": "stdout",
     "output_type": "stream",
     "text": [
      "0.525 0.015791611697353755\n"
     ]
    }
   ],
   "source": [
    "p_hat = 525 / 1000\n",
    "mu = p_hat\n",
    "sigma = sqrt(p_hat * (1 - p_hat) / 1000)\n",
    "print(mu, sigma)"
   ]
  },
  {
   "cell_type": "code",
   "execution_count": 46,
   "metadata": {
    "collapsed": false
   },
   "outputs": [
    {
     "data": {
      "text/plain": [
       "(0.4940490278129096, 0.5559509721870904)"
      ]
     },
     "execution_count": 46,
     "metadata": {},
     "output_type": "execute_result"
    }
   ],
   "source": [
    "normal_two_sided_bounds(0.95, mu, sigma)"
   ]
  },
  {
   "cell_type": "markdown",
   "metadata": {},
   "source": [
    "# p-hacking"
   ]
  },
  {
   "cell_type": "code",
   "execution_count": 51,
   "metadata": {
    "collapsed": false
   },
   "outputs": [
    {
     "name": "stdout",
     "output_type": "stream",
     "text": [
      "46\n"
     ]
    }
   ],
   "source": [
    "def run_experiment():\n",
    "    return [random.random() < 0.5 for _ in range(1000)]\n",
    "\n",
    "def reject_fairness(experiment):\n",
    "    num_heads = len([flip for flip in experiment if flip])\n",
    "    return num_heads < 469 or num_heads > 531\n",
    "\n",
    "random.seed(0)\n",
    "experiments = [run_experiment() for _ in range(1000)]\n",
    "num_rejections = len([experiment for experiment in experiments if reject_fairness(experiment)])\n",
    "print(num_rejections)"
   ]
  },
  {
   "cell_type": "markdown",
   "metadata": {},
   "source": [
    "# A/B Test"
   ]
  },
  {
   "cell_type": "code",
   "execution_count": 53,
   "metadata": {
    "collapsed": true
   },
   "outputs": [],
   "source": [
    "def estimated_parameters(N, n):\n",
    "    p = n / N\n",
    "    sigma = sqrt(p*(1-p) / N)\n",
    "    return p, sigma\n",
    "\n",
    "def a_b_test_statistic(N_A, n_A, N_B, n_B):\n",
    "    p_A, sigma_A = estimated_parameters(N_A, n_A)\n",
    "    p_B, sigma_B = estimated_parameters(N_B, n_B)\n",
    "    return (p_B - p_A)/sqrt(sigma_A ** 2 + sigma_B ** 2)"
   ]
  },
  {
   "cell_type": "code",
   "execution_count": 56,
   "metadata": {
    "collapsed": false
   },
   "outputs": [
    {
     "name": "stdout",
     "output_type": "stream",
     "text": [
      "-1.1403464899034472\n"
     ]
    }
   ],
   "source": [
    "z = a_b_test_statistic(1000, 200, 1000, 180)\n",
    "print(z)"
   ]
  },
  {
   "cell_type": "code",
   "execution_count": 57,
   "metadata": {
    "collapsed": false
   },
   "outputs": [
    {
     "data": {
      "text/plain": [
       "0.254141976542236"
      ]
     },
     "execution_count": 57,
     "metadata": {},
     "output_type": "execute_result"
    }
   ],
   "source": [
    "two_sided_p_value(z)"
   ]
  },
  {
   "cell_type": "code",
   "execution_count": 58,
   "metadata": {
    "collapsed": false
   },
   "outputs": [
    {
     "name": "stdout",
     "output_type": "stream",
     "text": [
      "-2.948839123097944\n"
     ]
    }
   ],
   "source": [
    "z = a_b_test_statistic(1000, 200, 1000, 150)\n",
    "print(z)"
   ]
  },
  {
   "cell_type": "code",
   "execution_count": 59,
   "metadata": {
    "collapsed": false
   },
   "outputs": [
    {
     "data": {
      "text/plain": [
       "0.003189699706216853"
      ]
     },
     "execution_count": 59,
     "metadata": {},
     "output_type": "execute_result"
    }
   ],
   "source": [
    "two_sided_p_value(z)"
   ]
  },
  {
   "cell_type": "markdown",
   "metadata": {},
   "source": [
    "# Bayesian Inference"
   ]
  },
  {
   "cell_type": "code",
   "execution_count": 62,
   "metadata": {
    "collapsed": false
   },
   "outputs": [],
   "source": [
    "from math import gamma\n",
    "\n",
    "def B(alpha, beta):\n",
    "    return gamma(alpha) * gamma(beta) / gamma(alpha + beta)\n",
    "\n",
    "def beta_pdf(x, alpha, beta):\n",
    "    if x <= 0 or x >= 1:\n",
    "        return 0\n",
    "    return x ** (alpha - 1) * (1 - x) ** (beta - 1) / B(alpha, beta)"
   ]
  },
  {
   "cell_type": "code",
   "execution_count": 66,
   "metadata": {
    "collapsed": false
   },
   "outputs": [
    {
     "data": {
      "image/png": "[encoded data removed]",
      "text/plain": [
       "<matplotlib.figure.Figure at 0x7f12972d8cf8>"
      ]
     },
     "metadata": {},
     "output_type": "display_data"
    }
   ],
   "source": [
    "plt.plot(xs, [beta_pdf(x, alpha=1, beta=1) for x in xs], '-', label='alpha=1, beta=1')\n",
    "plt.plot(xs, [beta_pdf(x, alpha=10, beta=1) for x in xs], '--', label='alpha=10, beta=1')\n",
    "plt.plot(xs, [beta_pdf(x, alpha=1, beta=10) for x in xs], ':', label='alpha=1, beta=10')\n",
    "plt.legend()\n",
    "plt.show()"
   ]
  },
  {
   "cell_type": "code",
   "execution_count": 68,
   "metadata": {
    "collapsed": false
   },
   "outputs": [
    {
     "data": {
      "image/png": "[encoded data removed]",
      "text/plain": [
       "<matplotlib.figure.Figure at 0x7f12971c7940>"
      ]
     },
     "metadata": {},
     "output_type": "display_data"
    }
   ],
   "source": [
    "plt.plot(xs, [beta_pdf(x, alpha=1, beta=1) for x in xs], '-', label='alpha=1, beta=1')\n",
    "plt.plot(xs, [beta_pdf(x, alpha=0.1, beta=1) for x in xs], '.', label='alpha=0.1, beta=1')\n",
    "plt.plot(xs, [beta_pdf(x, alpha=1, beta=0.1) for x in xs], ':', label='alpha=1, beta=0.1')\n",
    "plt.legend()\n",
    "plt.show()"
   ]
  },
  {
   "cell_type": "code",
   "execution_count": 70,
   "metadata": {
    "collapsed": false
   },
   "outputs": [
    {
     "data": {
      "image/png": "[encoded data removed]",
      "text/plain": [
       "<matplotlib.figure.Figure at 0x7f129713aa20>"
      ]
     },
     "metadata": {},
     "output_type": "display_data"
    }
   ],
   "source": [
    "plt.plot(xs, [beta_pdf(x, alpha=1, beta=1) for x in xs], '-', label='alpha=1, beta=1')\n",
    "plt.plot(xs, [beta_pdf(x, alpha=10, beta=10) for x in xs], '--', label='alpha=10, beta=10')\n",
    "plt.plot(xs, [beta_pdf(x, alpha=4, beta=16) for x in xs], '.', label='alpha=4, beta=16')\n",
    "plt.plot(xs, [beta_pdf(x, alpha=16, beta=4) for x in xs], ':', label='alpha=16, beta=4')\n",
    "plt.legend()\n",
    "plt.show()"
   ]
  }
 ],
 "metadata": {
  "kernelspec": {
   "display_name": "Python [conda root]",
   "language": "python",
   "name": "conda-root-py"
  },
  "language_info": {
   "codemirror_mode": {
    "name": "ipython",
    "version": 3
   },
   "file_extension": ".py",
   "mimetype": "text/x-python",
   "name": "python",
   "nbconvert_exporter": "python",
   "pygments_lexer": "ipython3",
   "version": "3.5.2"
  },
  "toc": {
   "colors": {
    "hover_highlight": "#DAA520",
    "navigate_num": "#000000",
    "navigate_text": "#333333",
    "running_highlight": "#FF0000",
    "selected_highlight": "#FFD700",
    "sidebar_border": "#EEEEEE",
    "wrapper_background": "#FFFFFF"
   },
   "moveMenuLeft": true,
   "nav_menu": {
    "height": "105px",
    "width": "252px"
   },
   "navigate_menu": true,
   "number_sections": true,
   "sideBar": true,
   "threshold": 4,
   "toc_cell": false,
   "toc_section_display": "block",
   "toc_window_display": false,
   "widenNotebook": false
  }
 },
 "nbformat": 4,
 "nbformat_minor": 1
}
