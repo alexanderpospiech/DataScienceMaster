{
 "cells": [
  {
   "cell_type": "markdown",
   "metadata": {
    "toc": "true"
   },
   "source": [
    "# Table of Contents\n",
    " <p><div class=\"lev1 toc-item\"><a href=\"#Logistic-Regression\" data-toc-modified-id=\"Logistic-Regression-1\"><span class=\"toc-item-num\">1&nbsp;&nbsp;</span>Logistic Regression</a></div><div class=\"lev2 toc-item\"><a href=\"#My-notes:\" data-toc-modified-id=\"My-notes:-11\"><span class=\"toc-item-num\">1.1&nbsp;&nbsp;</span>My notes:</a></div><div class=\"lev1 toc-item\"><a href=\"#Load-and-Inspect-the-Data\" data-toc-modified-id=\"Load-and-Inspect-the-Data-2\"><span class=\"toc-item-num\">2&nbsp;&nbsp;</span>Load and Inspect the Data</a></div><div class=\"lev2 toc-item\"><a href=\"#Which-dimensions-to-choose-for-the-prediction?\" data-toc-modified-id=\"Which-dimensions-to-choose-for-the-prediction?-21\"><span class=\"toc-item-num\">2.1&nbsp;&nbsp;</span>Which dimensions to choose for the prediction?</a></div><div class=\"lev1 toc-item\"><a href=\"#Data-Preparation-(train,-test)\" data-toc-modified-id=\"Data-Preparation-(train,-test)-3\"><span class=\"toc-item-num\">3&nbsp;&nbsp;</span>Data Preparation (train, test)</a></div><div class=\"lev1 toc-item\"><a href=\"#Manual-Implementation\" data-toc-modified-id=\"Manual-Implementation-4\"><span class=\"toc-item-num\">4&nbsp;&nbsp;</span>Manual Implementation</a></div><div class=\"lev2 toc-item\"><a href=\"#Algorithm\" data-toc-modified-id=\"Algorithm-41\"><span class=\"toc-item-num\">4.1&nbsp;&nbsp;</span>Algorithm</a></div><div class=\"lev2 toc-item\"><a href=\"#Experiment\" data-toc-modified-id=\"Experiment-42\"><span class=\"toc-item-num\">4.2&nbsp;&nbsp;</span>Experiment</a></div><div class=\"lev2 toc-item\"><a href=\"#Analysis-of-parameters\" data-toc-modified-id=\"Analysis-of-parameters-43\"><span class=\"toc-item-num\">4.3&nbsp;&nbsp;</span>Analysis of parameters</a></div><div class=\"lev2 toc-item\"><a href=\"#Analysis-of-Convergence\" data-toc-modified-id=\"Analysis-of-Convergence-44\"><span class=\"toc-item-num\">4.4&nbsp;&nbsp;</span>Analysis of Convergence</a></div><div class=\"lev1 toc-item\"><a href=\"#Library-Implementations\" data-toc-modified-id=\"Library-Implementations-5\"><span class=\"toc-item-num\">5&nbsp;&nbsp;</span>Library Implementations</a></div><div class=\"lev2 toc-item\"><a href=\"#Statsmodel\" data-toc-modified-id=\"Statsmodel-51\"><span class=\"toc-item-num\">5.1&nbsp;&nbsp;</span>Statsmodel</a></div><div class=\"lev2 toc-item\"><a href=\"#SKLearn\" data-toc-modified-id=\"SKLearn-52\"><span class=\"toc-item-num\">5.2&nbsp;&nbsp;</span>SKLearn</a></div><div class=\"lev2 toc-item\"><a href=\"#SciPy\" data-toc-modified-id=\"SciPy-53\"><span class=\"toc-item-num\">5.3&nbsp;&nbsp;</span>SciPy</a></div><div class=\"lev1 toc-item\"><a href=\"#Sources:\" data-toc-modified-id=\"Sources:-6\"><span class=\"toc-item-num\">6&nbsp;&nbsp;</span>Sources:</a></div><div class=\"lev2 toc-item\"><a href=\"#Overviews:\" data-toc-modified-id=\"Overviews:-61\"><span class=\"toc-item-num\">6.1&nbsp;&nbsp;</span>Overviews:</a></div><div class=\"lev2 toc-item\"><a href=\"#Notebooks:\" data-toc-modified-id=\"Notebooks:-62\"><span class=\"toc-item-num\">6.2&nbsp;&nbsp;</span>Notebooks:</a></div>"
   ]
  },
  {
   "cell_type": "markdown",
   "metadata": {},
   "source": [
    "# Logistic Regression\n",
    "\n",
    "## My notes:\n",
    "\n",
    "* problem: y is not a continous value, but a discrete one, usually 0 or 1\n",
    "* kind of a probability on a classification\n",
    "* a sigmoid function represents the probabilty, whether a row is either 0 or 1\n",
    "* "
   ]
  },
  {
   "cell_type": "markdown",
   "metadata": {},
   "source": [
    "# Load and Inspect the Data"
   ]
  },
  {
   "cell_type": "markdown",
   "metadata": {},
   "source": [
    "For the experiments we will use the heart disease dataset (https://archive.ics.uci.edu/ml/datasets/heart+Disease)"
   ]
  },
  {
   "cell_type": "code",
   "execution_count": 176,
   "metadata": {
    "collapsed": false
   },
   "outputs": [],
   "source": [
    "%matplotlib inline\n",
    "import pandas as pd\n",
    "import numpy as np\n",
    "from sklearn import metrics\n",
    "import matplotlib.pyplot as plt\n",
    "df = pd.read_csv('./data/heart-disease.csv')\n",
    "df['num_norm'] = df['num']\n",
    "df['num_norm'] = df['num'].apply(lambda x: 1 if x>0 else 0)\n",
    "\n",
    "# remove rows with NA values\n",
    "df = df[(df['ca'] != '?') & (df['thal'] != '?')]\n",
    "\n",
    "# transform nominal categorical columns into dummy variables\n",
    "df = pd.concat([df, pd.get_dummies(df['cp'], prefix = 'cp')], axis=1)\n",
    "df = pd.concat([df, pd.get_dummies(df['restecg'], prefix = 'restecg')], axis=1)\n",
    "df = pd.concat([df, pd.get_dummies(df['slope'], prefix = 'slope')], axis=1)\n",
    "df = pd.concat([df, pd.get_dummies(df['thal'], prefix = 'thal')], axis=1)\n",
    "\n",
    "value_columns = list(df)\n",
    "value_columns.remove('num_norm')\n",
    "value_columns.remove('num')\n",
    "\n",
    "columns = list(df)"
   ]
  },
  {
   "cell_type": "markdown",
   "metadata": {},
   "source": [
    "## Which dimensions to choose for the prediction?"
   ]
  },
  {
   "cell_type": "markdown",
   "metadata": {},
   "source": [
    "Available Columns after transformation"
   ]
  },
  {
   "cell_type": "code",
   "execution_count": 295,
   "metadata": {
    "collapsed": false,
    "scrolled": true
   },
   "outputs": [
    {
     "name": "stdout",
     "output_type": "stream",
     "text": [
      "\"age\", \"sex\", \"cp\", \"trestbps\", \"chol\", \"fbs\", \"restecg\", \"thalach\", \"exang\", \"oldpeak\", \"slope\", \"ca\", \"thal\", \"num\", \"num_norm\", \"cp_1.0\", \"cp_2.0\", \"cp_3.0\", \"cp_4.0\", \"restecg_0.0\", \"restecg_1.0\", \"restecg_2.0\", \"slope_1.0\", \"slope_2.0\", \"slope_3.0\", \"thal_3.0\", \"thal_6.0\", \"thal_7.0\"\n"
     ]
    }
   ],
   "source": [
    "print('\"' + '\", \"'.join(list(df)) + '\"')"
   ]
  },
  {
   "cell_type": "markdown",
   "metadata": {},
   "source": [
    "To get an intution on the data, plot the different values of each dimension against the normalized value as stacked bars.\n",
    "\n",
    "Maybe we can already identify a usable column to predict heart diseases."
   ]
  },
  {
   "cell_type": "code",
   "execution_count": 296,
   "metadata": {
    "collapsed": false
   },
   "outputs": [
    {
     "data": {
      "image/png": "[encoded data removed]",
      "text/plain": [
       "<matplotlib.figure.Figure at 0x7f7af1a40160>"
      ]
     },
     "metadata": {},
     "output_type": "display_data"
    }
   ],
   "source": [
    "plt.close('all')\n",
    "f, axarr = plt.subplots(7, int(len(list(df_filtered))/4)+1, sharey=True)\n",
    "f.set_size_inches(15,15)\n",
    "\n",
    "for i, cat in enumerate(list(df)):\n",
    "    if cat == 'num' or cat == 'num_norm':\n",
    "        continue\n",
    "    risk = pd.crosstab(df[cat], df['num_norm'])\n",
    "    risk.div(risk.sum(1).astype(int), axis=0).plot(ax= axarr[int(i/4), int(i%4)], kind='bar', stacked=True, legend=False, title = cat)\n",
    "    \n",
    "plt.tight_layout()"
   ]
  },
  {
   "cell_type": "markdown",
   "metadata": {},
   "source": [
    "No dimension columns is expressive enough to be an obvious candidate for the logisitic regression.\n",
    "\n",
    "Let's find some sets of expressive columns. Thanks to https://github.com/stephengo for the code.\n",
    "\n",
    "First we will use the RandomizedLasso, second a linear regression."
   ]
  },
  {
   "cell_type": "code",
   "execution_count": 304,
   "metadata": {
    "collapsed": false
   },
   "outputs": [
    {
     "name": "stdout",
     "output_type": "stream",
     "text": [
      "The result of the RandomizedLasso:\n",
      "[(0.54000000000000004, 'cp_2.0'), (0.495, 'thal'), (0.48999999999999999, 'ca'), (0.34000000000000002, 'slope_2.0'), (0.28999999999999998, 'oldpeak'), (0.27500000000000002, 'thalach'), (0.185, 'exang'), (0.14499999999999999, 'thal_3.0'), (0.13500000000000001, 'cp'), (0.055, 'restecg_1.0'), (0.0050000000000000001, 'restecg_2.0'), (0.0, 'trestbps'), (0.0, 'slope_3.0'), (0.0, 'slope_1.0'), (0.0, 'slope'), (0.0, 'sex'), (0.0, 'restecg_0.0'), (0.0, 'restecg'), (0.0, 'num_norm'), (0.0, 'num'), (0.0, 'fbs'), (0.0, 'cp_4.0'), (0.0, 'cp_3.0'), (0.0, 'cp_1.0'), (0.0, 'chol'), (0.0, 'age')]\n",
      "\n",
      "Columns with a score >0.1\n",
      "['cp_2.0', 'thal', 'ca', 'slope_2.0', 'oldpeak', 'thalach', 'exang', 'thal_3.0', 'cp']\n"
     ]
    }
   ],
   "source": [
    "from sklearn.linear_model import RandomizedLasso\n",
    "\n",
    "rlasso = RandomizedLasso(alpha=0.01)\n",
    "rlasso.fit(df[value_columns], df[['num_norm']].values.ravel())\n",
    "\n",
    "stable_columns = sorted(zip(map(lambda x: round(x, 4), rlasso.scores_), columns), reverse=True)\n",
    "print('The result of the RandomizedLasso:')\n",
    "print(stable_columns)\n",
    "\n",
    "print()\n",
    "print('Columns with a score >0.1')\n",
    "stable_columns = [x[1] for x in stable_columns if x[0] > 0.1]\n",
    "print(stable_columns)"
   ]
  },
  {
   "cell_type": "code",
   "execution_count": 305,
   "metadata": {
    "collapsed": false
   },
   "outputs": [
    {
     "name": "stdout",
     "output_type": "stream",
     "text": [
      "[(1, 'thal_3.0'), (2, 'exang'), (3, 'restecg_1.0'), (4, 'ca'), (5, 'cp_1.0'), (6, 'cp_4.0'), (7, 'sex'), (8, 'cp'), (9, 'slope_3.0'), (10, 'cp_3.0'), (11, 'thal'), (12, 'restecg_2.0'), (13, 'oldpeak'), (14, 'fbs'), (15, 'restecg_0.0'), (16, 'restecg'), (17, 'cp_2.0'), (18, 'num_norm'), (19, 'slope_1.0'), (20, 'slope'), (21, 'num'), (22, 'trestbps'), (23, 'slope_2.0'), (24, 'thalach'), (25, 'age'), (26, 'chol')]\n",
      "The result of the LinearRegression:\n",
      "\n",
      "Columns with a score <5\n",
      "['thal_3.0', 'exang', 'restecg_1.0', 'ca']\n"
     ]
    }
   ],
   "source": [
    "from sklearn.linear_model import LinearRegression\n",
    "from sklearn.feature_selection import RFE\n",
    "\n",
    "lr = LinearRegression()\n",
    "rfe = RFE(lr, n_features_to_select=1)\n",
    "rfe.fit(df[value_columns], df[['num_norm']].values.ravel())\n",
    "\n",
    "rfe_columns = sorted(zip(map(lambda x: round(x, 4), rfe.ranking_), columns))\n",
    "print(rfe_columns)\n",
    "print('The result of the LinearRegression:')\n",
    "\n",
    "print()\n",
    "print('Columns with a score <5')\n",
    "rfe_columns = [x[1] for x in rfe_columns if x[0] < 5]\n",
    "print(rfe_columns)"
   ]
  },
  {
   "cell_type": "markdown",
   "metadata": {},
   "source": [
    "# Data Preparation (train, test)"
   ]
  },
  {
   "cell_type": "markdown",
   "metadata": {},
   "source": [
    "We will do our expirements on three different subsets of the data. So we will see the impact of the choose of columns."
   ]
  },
  {
   "cell_type": "code",
   "execution_count": 244,
   "metadata": {
    "collapsed": false
   },
   "outputs": [],
   "source": [
    "from numpy import loadtxt, zeros, ones, array, linspace, logspace, vstack\n",
    "\n",
    "# Xs\n",
    "X = df[value_columns]\n",
    "X_stable= df[stable_columns]\n",
    "X_rfe= df[rfe_columns]\n",
    "# Y\n",
    "y_norm = df[\"num_norm\"]\n",
    "y = df['num']\n",
    "\n",
    "# number of entries\n",
    "n = y.size \n",
    "# Add a column of ones to X (interception data)\n",
    "it = ones(shape=(n, len(list(X))+1 ) )\n",
    "it[:, 1:] = X\n",
    "X = it\n",
    "it = ones(shape=(n, len(list(X_stable))+1 ) )\n",
    "it[:, 1:] = X_stable\n",
    "X_stable = it\n",
    "it = ones(shape=(n, len(list(X_rfe))+1 ) )\n",
    "it[:, 1:] = X_rfe\n",
    "X_rfe = it\n",
    "\n",
    "# Create a mask for selecting randomly 20% of data\n",
    "msk = np.random.rand(len(y)) < 0.2\n",
    "\n",
    "# Split x-values for into train and test datasets\n",
    "X_test = X[msk]\n",
    "X = X[~msk]\n",
    "X_stable_test = X_stable[msk]\n",
    "X_stable = X_stable[~msk]\n",
    "X_rfe_test = X_rfe[msk]\n",
    "X_rfe = X_rfe[~msk]\n",
    "\n",
    "# Split y-values for media_value into train and test data\n",
    "y_test = y[msk].copy()\n",
    "y = y[~msk].copy()\n",
    "y_norm_test = y_norm[msk].copy()\n",
    "y_norm = y_norm[~msk].copy()"
   ]
  },
  {
   "cell_type": "markdown",
   "metadata": {},
   "source": [
    "# Manual Implementation"
   ]
  },
  {
   "cell_type": "markdown",
   "metadata": {},
   "source": [
    "Thanks to jdwittenauer for his implementation of logistic regression. \n",
    "\n",
    "https://nbviewer.jupyter.org/github/jdwittenauer/ipython-notebooks/blob/master/notebooks/ml/ML-Exercise2.ipynb"
   ]
  },
  {
   "cell_type": "markdown",
   "metadata": {},
   "source": [
    "## Algorithm"
   ]
  },
  {
   "cell_type": "markdown",
   "metadata": {},
   "source": [
    "The sigmoid function, which represents the propability of being 0 or 1."
   ]
  },
  {
   "cell_type": "code",
   "execution_count": 226,
   "metadata": {
    "collapsed": false
   },
   "outputs": [],
   "source": [
    "def sigmoid(z):\n",
    "    return 1 / (1 + np.exp(-z))"
   ]
  },
  {
   "cell_type": "code",
   "execution_count": 309,
   "metadata": {
    "collapsed": false
   },
   "outputs": [
    {
     "data": {
      "image/png": "[encoded data removed]",
      "text/plain": [
       "<matplotlib.figure.Figure at 0x7f7ae023cc88>"
      ]
     },
     "metadata": {},
     "output_type": "display_data"
    }
   ],
   "source": [
    "nums = np.arange(-10, 10, step=1)\n",
    "\n",
    "fig, ax = plt.subplots(figsize=(2,1))\n",
    "a = ax.plot(nums, sigmoid(nums), 'r')"
   ]
  },
  {
   "cell_type": "markdown",
   "metadata": {},
   "source": [
    "The cost function"
   ]
  },
  {
   "cell_type": "code",
   "execution_count": 221,
   "metadata": {
    "collapsed": true
   },
   "outputs": [],
   "source": [
    "def cost(theta, X, y):\n",
    "    theta = np.matrix(theta)\n",
    "    X = np.matrix(X)\n",
    "    y = np.matrix(y)\n",
    "    first = np.multiply(-y, np.log(sigmoid(X * theta.T)))\n",
    "    second = np.multiply((1 - y), np.log(1 - sigmoid(X * theta.T)))\n",
    "    return np.sum(first - second) / (len(X))"
   ]
  },
  {
   "cell_type": "markdown",
   "metadata": {},
   "source": [
    "Fill theta with zeros as default"
   ]
  },
  {
   "cell_type": "code",
   "execution_count": 285,
   "metadata": {
    "collapsed": false
   },
   "outputs": [],
   "source": [
    "theta = np.zeros(X.shape[1])\n",
    "theta_stable= np.zeros(X_stable.shape[1])\n",
    "theta_rfe = np.zeros(X_rfe.shape[1])\n",
    "\n",
    "#theta = 0.1* np.random.randn(X.shape[1])\n",
    "#theta_stable = 0.1* np.random.randn(X_stable.shape[1])\n",
    "#theta_rfe = 0.1* np.random.randn(X_rfe.shape[1])"
   ]
  },
  {
   "cell_type": "code",
   "execution_count": 288,
   "metadata": {
    "collapsed": false
   },
   "outputs": [
    {
     "name": "stdout",
     "output_type": "stream",
     "text": [
      "(243, 27)\n",
      "(243, 10)\n",
      "(243, 5)\n",
      "(243,)\n",
      "(243,)\n",
      "(27,)\n",
      "(10,)\n",
      "(5,)\n"
     ]
    }
   ],
   "source": [
    "print(X.shape)\n",
    "print(X_stable.shape)\n",
    "print(X_rfe.shape)\n",
    "\n",
    "print(y.shape)\n",
    "print(y_norm.shape)\n",
    "\n",
    "print(theta.shape)\n",
    "print(theta_stable.shape)\n",
    "print(theta_rfe.shape)"
   ]
  },
  {
   "cell_type": "markdown",
   "metadata": {},
   "source": [
    "The costs for an unoptimized theta and the three different datasets."
   ]
  },
  {
   "cell_type": "code",
   "execution_count": 286,
   "metadata": {
    "collapsed": false
   },
   "outputs": [
    {
     "name": "stdout",
     "output_type": "stream",
     "text": [
      "168.434764876\n",
      "168.434764876\n",
      "168.434764876\n"
     ]
    }
   ],
   "source": [
    "print(cost(theta, X, y_norm))\n",
    "print(cost(theta_stable, X_stable, y_norm))\n",
    "print(cost(theta_rfe, X_rfe, y_norm))"
   ]
  },
  {
   "cell_type": "markdown",
   "metadata": {},
   "source": [
    "The gradient descent algorithm for logistic regression"
   ]
  },
  {
   "cell_type": "code",
   "execution_count": 229,
   "metadata": {
    "collapsed": true
   },
   "outputs": [],
   "source": [
    "def gradient(theta, X, y):\n",
    "    theta = np.matrix(theta)\n",
    "    X = np.matrix(X)\n",
    "    y = np.matrix(y)\n",
    "    \n",
    "    parameters = int(theta.ravel().shape[1])\n",
    "    grad = np.zeros(parameters)\n",
    "    \n",
    "    error = sigmoid(X * theta.T) - y\n",
    "    \n",
    "    for i in range(parameters):\n",
    "        term = np.multiply(error, X[:,i])\n",
    "        grad[i] = np.sum(term) / len(X)\n",
    "    \n",
    "    return grad"
   ]
  },
  {
   "cell_type": "markdown",
   "metadata": {},
   "source": [
    "The thetas after the first round of applying the gradient descent algorithm on the three different subsets."
   ]
  },
  {
   "cell_type": "code",
   "execution_count": 274,
   "metadata": {
    "collapsed": false
   },
   "outputs": [
    {
     "data": {
      "text/plain": [
       "array([ -1.17000000e+02,  -6.36085185e+03,  -7.70370370e+01,\n",
       "        -3.75074074e+02,  -1.52831852e+04,  -2.89346296e+04,\n",
       "        -1.68518519e+01,  -1.16518519e+02,  -1.73848519e+04,\n",
       "        -3.94814815e+01,  -1.31059259e+02,  -1.88259259e+02,\n",
       "        -8.57037037e+01,  -5.54666667e+02,  -6.74074074e+00,\n",
       "        -2.07037037e+01,  -3.12962963e+01,  -5.82592593e+01,\n",
       "        -5.82592593e+01,  -9.62962963e-01,  -5.77777778e+01,\n",
       "        -5.39259259e+01,  -5.48888889e+01,  -8.18518519e+00,\n",
       "        -6.45185185e+01,  -6.25925926e+00,  -4.62222222e+01])"
      ]
     },
     "execution_count": 274,
     "metadata": {},
     "output_type": "execute_result"
    }
   ],
   "source": [
    "gradient(theta, X, y_norm)"
   ]
  },
  {
   "cell_type": "code",
   "execution_count": 212,
   "metadata": {
    "collapsed": false
   },
   "outputs": [
    {
     "data": {
      "text/plain": [
       "array([   10.5       ,     1.77272727,    50.22727273,     6.95454545,\n",
       "           4.68181818,  1578.09090909,    10.91363636,     3.13636364,\n",
       "           5.68181818,    33.13636364])"
      ]
     },
     "execution_count": 212,
     "metadata": {},
     "output_type": "execute_result"
    }
   ],
   "source": [
    "gradient(theta_stable, X_stable, y_norm)"
   ]
  },
  {
   "cell_type": "code",
   "execution_count": 213,
   "metadata": {
    "collapsed": false
   },
   "outputs": [
    {
     "data": {
      "text/plain": [
       "array([ 10.5       ,   5.68181818,   3.13636364,   0.09090909,   6.95454545])"
      ]
     },
     "execution_count": 213,
     "metadata": {},
     "output_type": "execute_result"
    }
   ],
   "source": [
    "gradient(theta_rfe, X_rfe, y_norm)"
   ]
  },
  {
   "cell_type": "markdown",
   "metadata": {},
   "source": [
    "## Experiment\n"
   ]
  },
  {
   "cell_type": "markdown",
   "metadata": {},
   "source": [
    "For the optimization we will use optimization algorithms of scipy.\n",
    "\n",
    "One can choose between different optimization algorithms.\n",
    "\n",
    "Be aware: when using fmin_tnc the result is an array of arrays, so use result[0], when using fmin_bfgs use result."
   ]
  },
  {
   "cell_type": "code",
   "execution_count": 319,
   "metadata": {
    "collapsed": true
   },
   "outputs": [],
   "source": [
    "import scipy.optimize as opt"
   ]
  },
  {
   "cell_type": "code",
   "execution_count": 316,
   "metadata": {
    "collapsed": false
   },
   "outputs": [
    {
     "name": "stdout",
     "output_type": "stream",
     "text": [
      "Optimization terminated successfully.\n",
      "         Current function value: 168.268060\n",
      "         Iterations: 25\n",
      "         Function evaluations: 34\n",
      "         Gradient evaluations: 34\n",
      "[ -9.37973281e-03  -2.06479388e-12  -7.02091099e-10  -3.90822182e-03\n",
      "   8.35503697e-13  -1.98984736e-12  -5.30877864e-10  -3.12657753e-03\n",
      "   5.63498516e-12   4.37301478e-10   9.98572210e-11  -6.25315556e-03\n",
      "   2.23439513e-10  -5.17502487e-03  -8.20726717e-03  -4.29904307e-03\n",
      "  -3.90821801e-04   3.51739922e-03  -6.25315312e-03  -3.12658186e-03\n",
      "   2.16656013e-09  -9.37973304e-03  -3.12657679e-03   3.12657702e-03\n",
      "  -1.52016361e-02   3.23439592e-04   5.49846370e-03]\n",
      "168.268060085\n"
     ]
    }
   ],
   "source": [
    "#result = opt.fmin_tnc(func=cost, x0=theta, fprime=gradient, args=(X, y_norm))\n",
    "result = opt.fmin_bfgs(cost, theta, fprime=gradient, args=(X, y_norm))\n",
    "print(result)\n",
    "print(cost(result, X, y_norm))"
   ]
  },
  {
   "cell_type": "code",
   "execution_count": 317,
   "metadata": {
    "collapsed": false
   },
   "outputs": [
    {
     "name": "stdout",
     "output_type": "stream",
     "text": [
      "Optimization terminated successfully.\n",
      "         Current function value: 168.268060\n",
      "         Iterations: 20\n",
      "         Function evaluations: 27\n",
      "         Gradient evaluations: 27\n",
      "[ -7.41080028e-02  -5.08273319e-10   4.47159535e-09  -1.39680865e-10\n",
      "   2.47864750e-09  -2.23257567e-11  -3.28825641e-10  -6.23697358e-09\n",
      "   1.70780461e-08   1.20084818e-09]\n",
      "168.268060085\n"
     ]
    }
   ],
   "source": [
    "#result_stable = opt.fmin_tnc(func=cost, x0=theta_stable, fprime=gradient, args=(X_stable, y_norm))\n",
    "result_stable = opt.fmin_bfgs(cost, theta_stable, fprime=gradient, args=(X_stable, y_norm))\n",
    "print(result_stable)\n",
    "print(cost(result_stable, X_stable , y_norm))"
   ]
  },
  {
   "cell_type": "code",
   "execution_count": 320,
   "metadata": {
    "collapsed": false
   },
   "outputs": [
    {
     "name": "stdout",
     "output_type": "stream",
     "text": [
      "Optimization terminated successfully.\n",
      "         Current function value: 168.268060\n",
      "         Iterations: 8\n",
      "         Function evaluations: 13\n",
      "         Gradient evaluations: 13\n",
      "[ -7.41079539e-02   1.77519375e-08   1.64187546e-08  -7.19493387e-08\n",
      "   1.83461308e-08]\n",
      "168.268060085\n"
     ]
    }
   ],
   "source": [
    "#result_rfe = opt.fmin_tnc(func=cost, x0=theta_rfe, fprime=gradient, args=(X_rfe, y_norm))\n",
    "result_rfe = opt.fmin_bfgs(cost, theta_rfe, fprime=gradient, args=(X_rfe, y_norm))\n",
    "\n",
    "print(result_rfe)\n",
    "print(cost(result_rfe, X_rfe , y_norm))"
   ]
  },
  {
   "cell_type": "code",
   "execution_count": 233,
   "metadata": {
    "collapsed": true
   },
   "outputs": [],
   "source": [
    "def predict(theta, X):\n",
    "    probability = sigmoid(X * theta.T)\n",
    "    return [1 if x >= 0.5 else 0 for x in probability]"
   ]
  },
  {
   "cell_type": "code",
   "execution_count": 332,
   "metadata": {
    "collapsed": false
   },
   "outputs": [],
   "source": [
    "def accuracy(theta, X, y):\n",
    "    theta_min = np.matrix(theta)\n",
    "    predictions = predict(theta_min, X)\n",
    "    correct = [1 if ((a == 1 and b == 1) or (a == 0 and b == 0)) else 0 for (a, b) in zip(predictions, y)]\n",
    "    accuracy = (sum(map(int, correct)) % len(correct))\n",
    "    print(theta_min)\n",
    "    print('\\taccuracy = {0}%'.format(accuracy))\n",
    "    print('\\tMAE: ', metrics.mean_absolute_error(y, predictions))\n",
    "    print('\\tMSE: ', metrics.mean_squared_error(y, predictions))\n",
    "    print('\\tRMSE: ', np.sqrt(metrics.mean_squared_error(y, predictions)))\n",
    "    print()"
   ]
  },
  {
   "cell_type": "code",
   "execution_count": 333,
   "metadata": {
    "collapsed": false
   },
   "outputs": [
    {
     "name": "stdout",
     "output_type": "stream",
     "text": [
      "[[ -9.37973281e-03  -2.06479388e-12  -7.02091099e-10  -3.90822182e-03\n",
      "    8.35503697e-13  -1.98984736e-12  -5.30877864e-10  -3.12657753e-03\n",
      "    5.63498516e-12   4.37301478e-10   9.98572210e-11  -6.25315556e-03\n",
      "    2.23439513e-10  -5.17502487e-03  -8.20726717e-03  -4.29904307e-03\n",
      "   -3.90821801e-04   3.51739922e-03  -6.25315312e-03  -3.12658186e-03\n",
      "    2.16656013e-09  -9.37973304e-03  -3.12657679e-03   3.12657702e-03\n",
      "   -1.52016361e-02   3.23439592e-04   5.49846370e-03]]\n",
      "\taccuracy = 34%\n",
      "\tMAE:  0.37037037037\n",
      "\tMSE:  0.37037037037\n",
      "\tRMSE:  0.60858061945\n",
      "\n",
      "[[ -7.41080028e-02  -5.08273319e-10   4.47159535e-09  -1.39680865e-10\n",
      "    2.47864750e-09  -2.23257567e-11  -3.28825641e-10  -6.23697358e-09\n",
      "    1.70780461e-08   1.20084818e-09]]\n",
      "\taccuracy = 34%\n",
      "\tMAE:  0.37037037037\n",
      "\tMSE:  0.37037037037\n",
      "\tRMSE:  0.60858061945\n",
      "\n",
      "[[ -7.41079539e-02   1.77519375e-08   1.64187546e-08  -7.19493387e-08\n",
      "    1.83461308e-08]]\n",
      "\taccuracy = 34%\n",
      "\tMAE:  0.37037037037\n",
      "\tMSE:  0.37037037037\n",
      "\tRMSE:  0.60858061945\n",
      "\n"
     ]
    }
   ],
   "source": [
    "accuracy(result, X_test, y_norm_test)\n",
    "accuracy(result_stable, X_stable_test, y_norm_test)\n",
    "accuracy(result_rfe, X_rfe_test, y_norm_test)\n"
   ]
  },
  {
   "cell_type": "markdown",
   "metadata": {},
   "source": [
    "## Analysis of parameters"
   ]
  },
  {
   "cell_type": "markdown",
   "metadata": {},
   "source": [
    "## Analysis of Convergence"
   ]
  },
  {
   "cell_type": "markdown",
   "metadata": {},
   "source": [
    "# Library Implementations"
   ]
  },
  {
   "cell_type": "markdown",
   "metadata": {},
   "source": [
    "## Statsmodel"
   ]
  },
  {
   "cell_type": "code",
   "execution_count": null,
   "metadata": {
    "collapsed": true
   },
   "outputs": [],
   "source": [
    "from statsmodels.discrete.discrete_model import Logit\n",
    "from patsy import dmatrices\n",
    "import statsmodels.discrete.discrete_model as sm"
   ]
  },
  {
   "cell_type": "code",
   "execution_count": 339,
   "metadata": {
    "collapsed": false,
    "scrolled": true
   },
   "outputs": [
    {
     "name": "stdout",
     "output_type": "stream",
     "text": [
      "Warning: Maximum number of iterations has been exceeded.\n",
      "         Current function value: 0.274102\n",
      "         Iterations: 35\n",
      "         Function evaluations: 39\n",
      "         Gradient evaluations: 39\n",
      "\n",
      "402.9676146\n",
      "[[ -3.74366834e-01  -1.14091466e-02   1.81695348e+00   4.58428661e-01\n",
      "    2.63937749e-02   1.78760050e-03  -8.85147776e-01   1.16559521e-01\n",
      "   -4.40099747e-02   7.16464482e-01   3.10725756e-01  -3.11866990e-01\n",
      "    1.21329622e+00   3.98134414e-02  -8.76917883e-01   8.31129232e-01\n",
      "   -9.87400812e-01   6.58822629e-01  -4.61108240e-01   5.69232916e-02\n",
      "    2.98181148e-02  -6.67883138e-01   5.24532764e-01  -2.31016460e-01\n",
      "   -4.04994823e-01  -1.04040199e+00   1.07102998e+00]]\n",
      "\taccuracy = 220%\n",
      "\tMAE:  0.0946502057613\n",
      "\tMSE:  0.0946502057613\n",
      "\tRMSE:  0.307652735664\n",
      "\n",
      "[[ -3.74366834e-01  -1.14091466e-02   1.81695348e+00   4.58428661e-01\n",
      "    2.63937749e-02   1.78760050e-03  -8.85147776e-01   1.16559521e-01\n",
      "   -4.40099747e-02   7.16464482e-01   3.10725756e-01  -3.11866990e-01\n",
      "    1.21329622e+00   3.98134414e-02  -8.76917883e-01   8.31129232e-01\n",
      "   -9.87400812e-01   6.58822629e-01  -4.61108240e-01   5.69232916e-02\n",
      "    2.98181148e-02  -6.67883138e-01   5.24532764e-01  -2.31016460e-01\n",
      "   -4.04994823e-01  -1.04040199e+00   1.07102998e+00]]\n",
      "\taccuracy = 37%\n",
      "\tMAE:  0.314814814815\n",
      "\tMSE:  0.314814814815\n",
      "\tRMSE:  0.561083607687\n",
      "\n"
     ]
    },
    {
     "name": "stderr",
     "output_type": "stream",
     "text": [
      "/home/apospiech/Programme/anaconda3/lib/python3.5/site-packages/statsmodels/base/model.py:466: ConvergenceWarning: Maximum Likelihood optimization failed to converge. Check mle_retvals\n",
      "  \"Check mle_retvals\", ConvergenceWarning)\n"
     ]
    }
   ],
   "source": [
    "logit = sm.Logit(y_norm, X)\n",
    "fit = logit.fit(method='bfgs')\n",
    "\n",
    "#print('Intercept + Coefficients: ', fit.params)\n",
    "#print('P-Values: ', fit.pvalues)\n",
    "#print('Conf. Interval: ', fit.conf_int())\n",
    "\n",
    "print('')\n",
    "print(cost(fit.params, X , y_norm))\n",
    "accuracy(fit.params, X, y_norm)\n",
    "accuracy(fit.params, X_test, y_norm_test)"
   ]
  },
  {
   "cell_type": "code",
   "execution_count": 335,
   "metadata": {
    "collapsed": false
   },
   "outputs": [
    {
     "name": "stdout",
     "output_type": "stream",
     "text": [
      "Warning: Maximum number of iterations has been exceeded.\n",
      "         Current function value: 0.328091\n",
      "         Iterations: 35\n",
      "         Function evaluations: 39\n",
      "         Gradient evaluations: 39\n",
      "\n",
      "336.575546095\n",
      "[[-0.75070007  1.49410806  0.29007702  1.03572448  0.35155552 -0.03318717\n",
      "   0.45540873  0.87280568 -0.8409484   0.91293829]]\n",
      "\taccuracy = 211%\n",
      "\tMAE:  0.131687242798\n",
      "\tMSE:  0.131687242798\n",
      "\tRMSE:  0.362887369301\n",
      "\n",
      "[[-0.75070007  1.49410806  0.29007702  1.03572448  0.35155552 -0.03318717\n",
      "   0.45540873  0.87280568 -0.8409484   0.91293829]]\n",
      "\taccuracy = 40%\n",
      "\tMAE:  0.259259259259\n",
      "\tMSE:  0.259259259259\n",
      "\tRMSE:  0.509175077217\n",
      "\n"
     ]
    },
    {
     "name": "stderr",
     "output_type": "stream",
     "text": [
      "/home/apospiech/Programme/anaconda3/lib/python3.5/site-packages/statsmodels/base/model.py:466: ConvergenceWarning: Maximum Likelihood optimization failed to converge. Check mle_retvals\n",
      "  \"Check mle_retvals\", ConvergenceWarning)\n"
     ]
    }
   ],
   "source": [
    "logit = sm.Logit(y_norm, X_stable)\n",
    "fit = logit.fit(method='bfgs')\n",
    "\n",
    "#print('Intercept + Coefficients: ', fit.params)\n",
    "#print('P-Values: ', fit.pvalues)\n",
    "#print('Conf. Interval: ', fit.conf_int())\n",
    "\n",
    "print('')\n",
    "print(cost(fit.params, X_stable , y_norm))\n",
    "accuracy(fit.params, X_stable, y_norm)\n",
    "accuracy(fit.params, X_stable_test, y_norm_test)\n"
   ]
  },
  {
   "cell_type": "code",
   "execution_count": 247,
   "metadata": {
    "collapsed": false
   },
   "outputs": [
    {
     "name": "stdout",
     "output_type": "stream",
     "text": [
      "Warning: Maximum number of iterations has been exceeded.\n",
      "         Current function value: 0.391027\n",
      "         Iterations: 35\n",
      "         Function evaluations: 36\n",
      "         Gradient evaluations: 36\n",
      "\n",
      "289.645359808\n",
      "accuracy = 208%\n",
      "accuracy = 41%\n",
      "\n",
      "MAE:  0.700270815259\n",
      "MSE:  1.18875464705\n",
      "RMSE:  1.09030025546\n"
     ]
    },
    {
     "name": "stderr",
     "output_type": "stream",
     "text": [
      "/home/apospiech/Programme/anaconda3/lib/python3.5/site-packages/statsmodels/base/model.py:466: ConvergenceWarning: Maximum Likelihood optimization failed to converge. Check mle_retvals\n",
      "  \"Check mle_retvals\", ConvergenceWarning)\n"
     ]
    }
   ],
   "source": [
    "logit = sm.Logit(y_norm, X_rfe)\n",
    "fit = logit.fit(method='bfgs')\n",
    "\n",
    "#print('Intercept + Coefficients: ', fit.params)\n",
    "#print('P-Values: ', fit.pvalues)\n",
    "#print('Conf. Interval: ', fit.conf_int())\n",
    "\n",
    "print('')\n",
    "print(cost(fit.params, X_rfe , y_norm))\n",
    "accuracy(fit.params, X_rfe, y_norm)\n",
    "accuracy(fit.params, X_rfe_test, y_norm_test)"
   ]
  },
  {
   "cell_type": "markdown",
   "metadata": {},
   "source": [
    "## SKLearn"
   ]
  },
  {
   "cell_type": "code",
   "execution_count": 253,
   "metadata": {
    "collapsed": false
   },
   "outputs": [],
   "source": [
    "import matplotlib.pyplot as plt\n",
    "from sklearn.linear_model import LogisticRegression\n",
    "from sklearn.cross_validation import cross_val_score"
   ]
  },
  {
   "cell_type": "code",
   "execution_count": 281,
   "metadata": {
    "collapsed": false
   },
   "outputs": [
    {
     "name": "stdout",
     "output_type": "stream",
     "text": [
      "\n",
      "747.524123696\n",
      "accuracy = 166%\n",
      "accuracy = 32%\n",
      "\n",
      "MAE:  0.740740740741\n",
      "MSE:  1.7037037037\n",
      "RMSE:  1.30526001383\n"
     ]
    }
   ],
   "source": [
    "model = LogisticRegression(C=1e5)\n",
    "\n",
    "fit = model.fit(X.astype('float'), y)\n",
    "\n",
    "#print('Coefficients a1, a2: ', fit.coef_)\n",
    "#print('Intercept a0: ', fit.intercept_)\n",
    "#print('R-Squared: ',fit.score(X_test, y_test))\n",
    "\n",
    "print('')\n",
    "print(cost(fit.coef_[4], X , y_norm))\n",
    "accuracy(fit.coef_[4], X, y_norm)\n",
    "accuracy(fit.coef_[4], X_test, y_norm_test)"
   ]
  },
  {
   "cell_type": "code",
   "execution_count": 282,
   "metadata": {
    "collapsed": false
   },
   "outputs": [
    {
     "name": "stdout",
     "output_type": "stream",
     "text": [
      "\n",
      "616.633750995\n",
      "accuracy = 185%\n",
      "accuracy = 31%\n",
      "\n",
      "MAE:  0.592592592593\n",
      "MSE:  1.11111111111\n",
      "RMSE:  1.05409255339\n"
     ]
    }
   ],
   "source": [
    "model = LogisticRegression(C=1e5)\n",
    "\n",
    "fit = model.fit(X_stable.astype('float'), y)\n",
    "\n",
    "#print('Coefficients a1, a2: ', fit.coef_)\n",
    "#print('Intercept a0: ', fit.intercept_)\n",
    "#print('R-Squared: ',fit.score(X_test, y_test))\n",
    "\n",
    "print('')\n",
    "print(cost(fit.coef_[4], X_stable , y_norm))\n",
    "accuracy(fit.coef_[4], X_stable, y_norm)\n",
    "accuracy(fit.coef_[4], X_stable_test, y_norm_test)"
   ]
  },
  {
   "cell_type": "code",
   "execution_count": 280,
   "metadata": {
    "collapsed": false
   },
   "outputs": [
    {
     "name": "stdout",
     "output_type": "stream",
     "text": [
      "Coefficients a1, a2:  [[ 0.11979767  2.30272814 -1.89663027 -5.06083665 -1.21671612]\n",
      " [-0.66827606 -0.73229463  0.72780948 -7.16320939 -0.09297522]\n",
      " [-1.03053134 -1.46264307  0.44566253 -7.54492106  0.50647783]\n",
      " [-1.33653413 -1.35256353  1.24646564  0.66915985  0.69033085]\n",
      " [-2.10920839 -0.83150765  0.11330399  2.32169578  0.92001082]]\n",
      "\n",
      "273.649476866\n",
      "accuracy = 135%\n",
      "accuracy = 36%\n",
      "\n",
      "MAE:  0.592592592593\n",
      "MSE:  1.11111111111\n",
      "RMSE:  1.05409255339\n"
     ]
    }
   ],
   "source": [
    "model = LogisticRegression(C=1e5)\n",
    "\n",
    "fit = model.fit(X_rfe, y)\n",
    "\n",
    "print('Coefficients a1, a2: ', fit.coef_)\n",
    "#print('Intercept a0: ', fit.intercept_)\n",
    "#print('R-Squared: ',fit.score(X_test, y_test))\n",
    "\n",
    "print('')\n",
    "print(cost(fit.coef_[4], X_rfe , y_norm))\n",
    "accuracy(fit.coef_[4], X_rfe, y_norm)\n",
    "accuracy(fit.coef_[4], X_rfe_test, y_norm_test)"
   ]
  },
  {
   "cell_type": "markdown",
   "metadata": {},
   "source": [
    "## SciPy"
   ]
  },
  {
   "cell_type": "markdown",
   "metadata": {
    "collapsed": false
   },
   "source": [
    "see Manual Implementation"
   ]
  },
  {
   "cell_type": "markdown",
   "metadata": {},
   "source": [
    "# Sources:\n",
    "\n",
    "## Overviews:\n",
    "\n",
    "http://wiki.fast.ai/index.php/Logistic_Regression\n",
    "\n",
    "http://www.holehouse.org/mlclass/06_Logistic_Regression.html\n",
    "\n",
    "https://www.cs.cmu.edu/~ninamf/courses/601sp15/lectures.shtml\n",
    "\n",
    "https://aimotion.blogspot.de/2011/11/machine-learning-with-python-logistic.html\n",
    "\n",
    "## Notebooks:\n",
    "\n",
    "https://github.com/stephengo/heart-disease-model/blob/master/LogRegression.ipynb\n",
    "\n",
    "https://github.com/LucDemortier/HeartDiseaseStudy/blob/master/HeartDiseaseProject.ipynb\n",
    "\n",
    "https://nbviewer.jupyter.org/github/jdwittenauer/ipython-notebooks/blob/master/notebooks/ml/ML-Exercise2.ipynb\n",
    "\n",
    "https://gist.github.com/vietjtnguyen/6655020 - for the manual part"
   ]
  },
  {
   "cell_type": "markdown",
   "metadata": {
    "collapsed": true
   },
   "source": []
  },
  {
   "cell_type": "code",
   "execution_count": null,
   "metadata": {
    "collapsed": true
   },
   "outputs": [],
   "source": []
  }
 ],
 "metadata": {
  "anaconda-cloud": {},
  "kernelspec": {
   "display_name": "Python [conda root]",
   "language": "python",
   "name": "conda-root-py"
  },
  "language_info": {
   "codemirror_mode": {
    "name": "ipython",
    "version": 3
   },
   "file_extension": ".py",
   "mimetype": "text/x-python",
   "name": "python",
   "nbconvert_exporter": "python",
   "pygments_lexer": "ipython3",
   "version": "3.5.2"
  },
  "toc": {
   "colors": {
    "hover_highlight": "#DAA520",
    "navigate_num": "#000000",
    "navigate_text": "#333333",
    "running_highlight": "#FF0000",
    "selected_highlight": "#FFD700",
    "sidebar_border": "#EEEEEE",
    "wrapper_background": "#FFFFFF"
   },
   "moveMenuLeft": true,
   "nav_menu": {
    "height": "322px",
    "width": "252px"
   },
   "navigate_menu": true,
   "number_sections": true,
   "sideBar": true,
   "threshold": 4,
   "toc_cell": true,
   "toc_position": {
    "height": "940px",
    "left": "0px",
    "right": "1641px",
    "top": "107px",
    "width": "277px"
   },
   "toc_section_display": "block",
   "toc_window_display": true,
   "widenNotebook": false
  }
 },
 "nbformat": 4,
 "nbformat_minor": 1
}
